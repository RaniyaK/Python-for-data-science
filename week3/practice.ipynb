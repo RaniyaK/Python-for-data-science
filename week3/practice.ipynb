{
 "cells": [
  {
   "cell_type": "code",
   "execution_count": 25,
   "metadata": {},
   "outputs": [
    {
     "name": "stdout",
     "output_type": "stream",
     "text": [
      " You are 23 years old \n"
     ]
    }
   ],
   "source": [
    "age= input(\"what is your age\")\n",
    "sentence = \" You are \" +age+ \" years old \" \n",
    "print(sentence)"
   ]
  },
  {
   "cell_type": "code",
   "execution_count": 26,
   "metadata": {},
   "outputs": [
    {
     "name": "stdout",
     "output_type": "stream",
     "text": [
      "I bought 2 eggs(s) at 50 each, for a total of $`100\n"
     ]
    }
   ],
   "source": [
    "product_name = \"eggs\"\n",
    "price = 50\n",
    "quantity = 2\n",
    "total_cost = price*quantity \n",
    "formatted_string=\"I bought {} {}(s) at {} each, for a total of $`{}\".format(quantity,product_name,price,total_cost) \n",
    "print(formatted_string)"
   ]
  },
  {
   "cell_type": "code",
   "execution_count": null,
   "metadata": {},
   "outputs": [],
   "source": []
  }
 ],
 "metadata": {
  "kernelspec": {
   "display_name": "base",
   "language": "python",
   "name": "python3"
  },
  "language_info": {
   "codemirror_mode": {
    "name": "ipython",
    "version": 3
   },
   "file_extension": ".py",
   "mimetype": "text/x-python",
   "name": "python",
   "nbconvert_exporter": "python",
   "pygments_lexer": "ipython3",
   "version": "3.11.3"
  },
  "orig_nbformat": 4
 },
 "nbformat": 4,
 "nbformat_minor": 2
}
