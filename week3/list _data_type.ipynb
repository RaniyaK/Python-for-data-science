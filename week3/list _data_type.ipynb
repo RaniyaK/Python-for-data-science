{
 "cells": [
  {
   "cell_type": "code",
   "execution_count": 8,
   "id": "db0db307-4853-47e2-9619-d72e9a6e07d5",
   "metadata": {
    "tags": []
   },
   "outputs": [
    {
     "name": "stdout",
     "output_type": "stream",
     "text": [
      "hammad\n",
      "ali\n",
      "saba\n",
      "sadia\n"
     ]
    }
   ],
   "source": [
    "s1_name = \"hammad\"\n",
    "s2_name = \"ali\"\n",
    "s3_name = \"saba\"\n",
    "s4_name = \"sadia\"\n",
    "\n",
    "print(s1_name)\n",
    "print(s2_name)\n",
    "print(s3_name)\n",
    "print(s4_name)"
   ]
  },
  {
   "cell_type": "code",
   "execution_count": 9,
   "id": "febb07de-44ef-4987-b734-6cfdd40c4376",
   "metadata": {},
   "outputs": [
    {
     "ename": "SyntaxError",
     "evalue": "invalid syntax (3480724099.py, line 1)",
     "output_type": "error",
     "traceback": [
      "\u001b[1;36m  Cell \u001b[1;32mIn[9], line 1\u001b[1;36m\u001b[0m\n\u001b[1;33m    syntax:\u001b[0m\n\u001b[1;37m           ^\u001b[0m\n\u001b[1;31mSyntaxError\u001b[0m\u001b[1;31m:\u001b[0m invalid syntax\n"
     ]
    }
   ],
   "source": [
    "syntax:\n",
    "\n",
    "[element1, element2, element3, ......]"
   ]
  },
  {
   "cell_type": "code",
   "execution_count": null,
   "id": "ceb5ceea-80b2-49e1-8bdf-151a92940821",
   "metadata": {
    "tags": []
   },
   "outputs": [
    {
     "data": {
      "text/plain": [
       "['hammad', 'ali', 'saba', 'sadia']"
      ]
     },
     "execution_count": 5,
     "metadata": {},
     "output_type": "execute_result"
    }
   ],
   "source": [
    "names = [\"hammad\", \"ali\",\"saba\",\"sadia\"]\n",
    "names"
   ]
  },
  {
   "cell_type": "code",
   "execution_count": null,
   "id": "f088f840-1261-4f0f-b6ea-b5f1c346aa54",
   "metadata": {},
   "outputs": [],
   "source": [
    "# ->         0         1      2      3     #positive indexing\n",
    "names = [\"hammad\", \"ali\",\"saba\",\"sadia\"]\n",
    "# <-      -4        -3    -2     -1      #negative indexing\n",
    "names"
   ]
  },
  {
   "cell_type": "markdown",
   "id": "0483c100-ceb6-4234-95ba-8cd134f40bd8",
   "metadata": {},
   "source": [
    "extract value from iterative data type with index position\n",
    "syntax: '''list_variable[index]"
   ]
  },
  {
   "cell_type": "code",
   "execution_count": null,
   "id": "776c1c69-be28-408a-b311-20c202e0ff00",
   "metadata": {
    "tags": []
   },
   "outputs": [
    {
     "name": "stdout",
     "output_type": "stream",
     "text": [
      "please insert name eith ',' separated:  raniya,\n"
     ]
    },
    {
     "data": {
      "text/plain": [
       "['raniya', '']"
      ]
     },
     "execution_count": 7,
     "metadata": {},
     "output_type": "execute_result"
    }
   ],
   "source": [
    "names1 = input(\"please insert name eith ',' separated: \")\n",
    "\n",
    "names1.split(\",\")\n"
   ]
  },
  {
   "cell_type": "code",
   "execution_count": null,
   "id": "c6a001ff-b3c4-4ac2-9f56-21f7fa724dc9",
   "metadata": {
    "tags": []
   },
   "outputs": [
    {
     "name": "stdout",
     "output_type": "stream",
     "text": [
      "ali\n",
      "ali\n"
     ]
    }
   ],
   "source": [
    "# ->         0         1      2      3     #positive indexing\n",
    "names = [\"hammad\", \"ali\",\"saba\",\"sadia\"]\n",
    "# <-      -4        -3    -2     -1     #negative indexing\n",
    "# list_variable[index_number]\n",
    "print(names[1])\n",
    "print(names[-3])\n"
   ]
  },
  {
   "cell_type": "code",
   "execution_count": null,
   "id": "dec897e9-33a6-457a-a360-757601a8862d",
   "metadata": {},
   "outputs": [],
   "source": [
    "slicing on list\n",
    "syntax: '''list_variable[start:end:steps]'''\n",
    "* start = this number will be included\n",
    "* end = excluded end -1\n",
    "* step = sequence/gap\n",
    "  step = 1  positive value means left to right\n"
   ]
  },
  {
   "cell_type": "code",
   "execution_count": 7,
   "metadata": {},
   "outputs": [
    {
     "name": "stdout",
     "output_type": "stream",
     "text": [
      "[1, 2, 3, 4, 5, 6, 7, 8, 9, 10]\n",
      "[4, 5, 6, 7, 8, 9, 10]\n",
      "[4, 5, 6, 7, 8, 9, 10]\n",
      "[4, 5, 6, 7, 8, 9, 10]\n",
      "[4, 5, 6, 7, 8, 9, 10]\n",
      "[4, 5, 6, 7, 8, 9, 10]\n",
      "[]\n",
      "[2, 3, 4, 5, 6, 7]\n",
      "[2]\n",
      "1\n"
     ]
    }
   ],
   "source": [
    "a= list(range(1,11))\n",
    "print(a)\n",
    "\n",
    "print(a[3::])\n",
    "\n",
    "# print (a[3::])\n",
    "print(a [3:])\n",
    "print(a [3:10])\n",
    "print(a[3:10:1])\n",
    "print(a[-7:])\n",
    "print(a[-2:-5])\n",
    "\n",
    "# print (a[0:20:3])\n",
    "\n",
    "# print (a[::])\n",
    "print(a[1:7])\n",
    "print(a[1:2])\n",
    "print(a[0]) #indexing\n"
   ]
  },
  {
   "cell_type": "code",
   "execution_count": 8,
   "id": "e3dbf0f2",
   "metadata": {},
   "outputs": [
    {
     "name": "stdout",
     "output_type": "stream",
     "text": [
      "[1, 2, 3, 4, 5, 6, 7, 8, 9, 10]\n",
      "[9, 8, 7]\n"
     ]
    }
   ],
   "source": [
    "a= list(range(1,11))\n",
    "print(a)\n",
    "a= print(a[-2:-5:-1]) <------"
   ]
  },
  {
   "cell_type": "code",
   "execution_count": 14,
   "id": "57f9b0ea",
   "metadata": {},
   "outputs": [
    {
     "name": "stdout",
     "output_type": "stream",
     "text": [
      "[1, 2, 3, 4, 5, 6, 7, 8, 9, 10]\n",
      "[4, 5, 6, 7, 8, 9, 10]\n",
      "[10, 9, 8, 7, 6, 5, 4, 3, 2, 1]\n",
      "[]\n",
      "[6, 4, 2]\n",
      "[1, 4, 7, 10]\n",
      "[1, 2, 3, 4, 5, 6, 7, 8, 9, 10]\n",
      "[2, 3, 4, 5, 6, 7]\n",
      "[2]\n",
      "1\n"
     ]
    }
   ],
   "source": [
    "a= list(range(1,11))\n",
    "print(a)\n",
    "print(a[-7::])\n",
    "print(a[::-1])\n",
    "print(a[-2:-5])\n",
    "print(a[-5:-10:-2])\n",
    "print(a[0:10:3])\n",
    "print(a[::])\n",
    "print(a[1:7])\n",
    "print(a[1:2])\n",
    "print(a[0])\n",
    "\n",
    "  # 0  1  2  3  4  5  6  7  8  9    #positive indexing\n",
    "# [1, 2, 3 ,4 ,5 ,6 ,7 ,8 ,9 ,10]\n",
    " # -10 -9 -8 -7 -6 -5 -4 -3 -2 -1"
   ]
  },
  {
   "cell_type": "code",
   "execution_count": null,
   "id": "bacec15f",
   "metadata": {},
   "outputs": [
    {
     "name": "stdout",
     "output_type": "stream",
     "text": [
      "['a', 'b', 'c', 'd', 'e', 'f', 'g', 'h', 'i', 'j', 'k', 'l', 'm', 'n', 'o', 'p', 'q', 'r', 's', 't', 'u', 'v', 'w', 'x', 'y', 'z']\n",
      "a\n",
      "b\n",
      "c\n",
      "d\n",
      "e\n",
      "f\n",
      "g\n",
      "h\n",
      "i\n",
      "j\n",
      "k\n",
      "l\n",
      "m\n",
      "n\n",
      "o\n",
      "p\n",
      "q\n",
      "r\n",
      "s\n",
      "t\n",
      "u\n",
      "v\n",
      "w\n",
      "x\n",
      "y\n",
      "z\n"
     ]
    }
   ],
   "source": [
    "characters = list(\"abcdefghijklmnopqrstuvwxyz\")\n",
    "print(characters)\n",
    "counter = 0\n",
    "while( counter <len (characters)):\n",
    "    print(characters[counter])\n",
    "    counter+= 1"
   ]
  },
  {
   "cell_type": "markdown",
   "id": "7a557744",
   "metadata": {},
   "source": [
    "EXTRA CODE"
   ]
  },
  {
   "cell_type": "code",
   "execution_count": 23,
   "id": "9247f6aa",
   "metadata": {},
   "outputs": [
    {
     "data": {
      "text/plain": [
       "[[1, 2, 3, 4, 5, 6, 7, 8, 9, 10],\n",
       " [11, 12, 13, 14, 15, 16, 17, 18, 19, 20],\n",
       " [21, 22, 23, 24, 25, 26, 27, 28, 29, 30],\n",
       " [31, 32, 33, 34, 35, 36, 37, 38, 39, 40],\n",
       " [41, 42, 43, 44, 45, 46, 47, 48, 49, 50],\n",
       " [51, 52, 53, 54, 55, 56, 57, 58, 59, 60],\n",
       " [61, 62, 63, 64, 65, 66, 67, 68, 69, 70],\n",
       " [71, 72, 73, 74, 75, 76, 77, 78, 79, 80],\n",
       " [81, 82, 83, 84, 85, 86, 87, 88, 89, 90],\n",
       " [91, 92, 93, 94, 95, 96, 97, 98, 99, 100]]"
      ]
     },
     "execution_count": 23,
     "metadata": {},
     "output_type": "execute_result"
    }
   ],
   "source": [
    "import numpy as np\n",
    "\n",
    "a = np.arange(1, 101).reshape(10, 10).tolist()\n",
    "a"
   ]
  },
  {
   "cell_type": "code",
   "execution_count": 24,
   "id": "c99a4e0f",
   "metadata": {},
   "outputs": [
    {
     "data": {
      "text/plain": [
       "[[1, 2, 3, 4, 5, 6, 7, 8, 9, 10],\n",
       " [11, 12, 13, 14, 15, 16, 17, 18, 19, 20],\n",
       " [21, 22, 23, 24, 25, 26, 27, 28, 29, 30],\n",
       " [31, 32, 33, 34, 35, 36, 37, 38, 39, 40],\n",
       " [41, 42, 43, 44, 45, 46, 47, 48, 49, 50],\n",
       " [51, 52, 53, 54, 55, 56, 57, 58, 59, 60],\n",
       " [61, 62, 63, 64, 65, 66, 67, 68, 69, 70],\n",
       " [71, 72, 73, 74, 75, 76, 77, 78, 79, 80],\n",
       " [81, 82, 83, 84, 85, 86, 87, 88, 89, 90],\n",
       " [91, 92, 93, 94, 95, 96, 97, 98, 99, 100]]"
      ]
     },
     "metadata": {},
     "output_type": "display_data"
    }
   ],
   "source": [
    "display(a)"
   ]
  },
  {
   "cell_type": "code",
   "execution_count": 28,
   "id": "f493753b",
   "metadata": {},
   "outputs": [
    {
     "data": {
      "text/plain": [
       "[[1, 2, 3, 4, 5, 6, 7, 8, 9, 10],\n",
       " [11, 12, 13, 14, 15, 16, 17, 18, 19, 20],\n",
       " [21, 22, 23, 24, 25, 26, 27, 28, 29, 30],\n",
       " [31, 32, 33, 34, 35, 36, 37, 38, 39, 40],\n",
       " [41, 42, 43, 44, 45, 46, 47, 48, 49, 50]]"
      ]
     },
     "execution_count": 28,
     "metadata": {},
     "output_type": "execute_result"
    }
   ],
   "source": [
    "a[0:5:]"
   ]
  },
  {
   "cell_type": "code",
   "execution_count": 29,
   "id": "b933b758",
   "metadata": {},
   "outputs": [
    {
     "data": {
      "text/plain": [
       "[[6, 7],\n",
       " [16, 17],\n",
       " [26, 27],\n",
       " [36, 37],\n",
       " [46, 47],\n",
       " [56, 57],\n",
       " [66, 67],\n",
       " [76, 77],\n",
       " [86, 87],\n",
       " [96, 97]]"
      ]
     },
     "execution_count": 29,
     "metadata": {},
     "output_type": "execute_result"
    }
   ],
   "source": [
    "[i[5:7] for i in a]"
   ]
  },
  {
   "cell_type": "markdown",
   "id": "6ac80330",
   "metadata": {},
   "source": [
    "END EXTRA CODE"
   ]
  },
  {
   "cell_type": "code",
   "execution_count": 31,
   "id": "1551933e",
   "metadata": {},
   "outputs": [
    {
     "data": {
      "text/plain": [
       "[1, 2, 3, 4, 5, 6, 7, 8, 9, 10]"
      ]
     },
     "execution_count": 31,
     "metadata": {},
     "output_type": "execute_result"
    }
   ],
   "source": [
    "a= list(range(1,11))\n",
    "a"
   ]
  },
  {
   "cell_type": "code",
   "execution_count": 36,
   "id": "d13ecab2",
   "metadata": {},
   "outputs": [
    {
     "data": {
      "text/plain": [
       "['append',\n",
       " 'clear',\n",
       " 'copy',\n",
       " 'count',\n",
       " 'extend',\n",
       " 'index',\n",
       " 'insert',\n",
       " 'pop',\n",
       " 'remove',\n",
       " 'reverse',\n",
       " 'sort']"
      ]
     },
     "execution_count": 36,
     "metadata": {},
     "output_type": "execute_result"
    }
   ],
   "source": [
    "[ i for i in dir(a) if \"__\" not in i ]"
   ]
  },
  {
   "cell_type": "code",
   "execution_count": 41,
   "id": "cf33a3f4",
   "metadata": {},
   "outputs": [
    {
     "name": "stdout",
     "output_type": "stream",
     "text": [
      "a\n",
      "b\n",
      "c\n",
      "d\n",
      "e\n",
      "f\n"
     ]
    }
   ],
   "source": [
    "for i in \"abcdef\":\n",
    "    print(i)"
   ]
  },
  {
   "cell_type": "code",
   "execution_count": 44,
   "id": "86945ea3",
   "metadata": {},
   "outputs": [
    {
     "name": "stdout",
     "output_type": "stream",
     "text": [
      "dareer\n",
      "rohail\n"
     ]
    }
   ],
   "source": [
    "for i in \"dareer\",\"rohail\":\n",
    "    print(i)"
   ]
  },
  {
   "cell_type": "code",
   "execution_count": 45,
   "id": "6a516241",
   "metadata": {},
   "outputs": [
    {
     "name": "stdout",
     "output_type": "stream",
     "text": [
      "[]\n",
      "['dareer']\n",
      "['dareer', 'rohail']\n"
     ]
    }
   ],
   "source": [
    "names= []\n",
    "print(names)\n",
    "names.append(\"dareer\")\n",
    "print(names)\n",
    "names.append(\"rohail\")\n",
    "print(names)\n"
   ]
  },
  {
   "cell_type": "code",
   "execution_count": 56,
   "id": "d1250772",
   "metadata": {},
   "outputs": [
    {
     "ename": "KeyboardInterrupt",
     "evalue": "Interrupted by user",
     "output_type": "error",
     "traceback": [
      "\u001b[1;31m---------------------------------------------------------------------------\u001b[0m",
      "\u001b[1;31mKeyboardInterrupt\u001b[0m                         Traceback (most recent call last)",
      "Cell \u001b[1;32mIn[56], line 2\u001b[0m\n\u001b[0;32m      1\u001b[0m \u001b[39mwhile\u001b[39;00m \u001b[39mTrue\u001b[39;00m :\n\u001b[1;32m----> 2\u001b[0m      name1\u001b[39m=\u001b[39m\u001b[39minput\u001b[39m( \u001b[39m\"\u001b[39m\u001b[39mEnter Student Name | X for Exist\u001b[39m\u001b[39m\"\u001b[39m)\n\u001b[0;32m      3\u001b[0m names\u001b[39m.\u001b[39mappend(name1)\n\u001b[0;32m      4\u001b[0m \u001b[39mif\u001b[39;00m name1 \u001b[39m==\u001b[39m \u001b[39m\"\u001b[39m\u001b[39mX\u001b[39m\u001b[39m\"\u001b[39m \u001b[39mor\u001b[39;00m name1 \u001b[39m==\u001b[39m\u001b[39m\"\u001b[39m\u001b[39mx\u001b[39m\u001b[39m\"\u001b[39m:\n",
      "File \u001b[1;32mc:\\ProgramData\\anaconda3\\Lib\\site-packages\\ipykernel\\kernelbase.py:1175\u001b[0m, in \u001b[0;36mKernel.raw_input\u001b[1;34m(self, prompt)\u001b[0m\n\u001b[0;32m   1171\u001b[0m \u001b[39mif\u001b[39;00m \u001b[39mnot\u001b[39;00m \u001b[39mself\u001b[39m\u001b[39m.\u001b[39m_allow_stdin:\n\u001b[0;32m   1172\u001b[0m     \u001b[39mraise\u001b[39;00m StdinNotImplementedError(\n\u001b[0;32m   1173\u001b[0m         \u001b[39m\"\u001b[39m\u001b[39mraw_input was called, but this frontend does not support input requests.\u001b[39m\u001b[39m\"\u001b[39m\n\u001b[0;32m   1174\u001b[0m     )\n\u001b[1;32m-> 1175\u001b[0m \u001b[39mreturn\u001b[39;00m \u001b[39mself\u001b[39m\u001b[39m.\u001b[39m_input_request(\n\u001b[0;32m   1176\u001b[0m     \u001b[39mstr\u001b[39m(prompt),\n\u001b[0;32m   1177\u001b[0m     \u001b[39mself\u001b[39m\u001b[39m.\u001b[39m_parent_ident[\u001b[39m\"\u001b[39m\u001b[39mshell\u001b[39m\u001b[39m\"\u001b[39m],\n\u001b[0;32m   1178\u001b[0m     \u001b[39mself\u001b[39m\u001b[39m.\u001b[39mget_parent(\u001b[39m\"\u001b[39m\u001b[39mshell\u001b[39m\u001b[39m\"\u001b[39m),\n\u001b[0;32m   1179\u001b[0m     password\u001b[39m=\u001b[39m\u001b[39mFalse\u001b[39;00m,\n\u001b[0;32m   1180\u001b[0m )\n",
      "File \u001b[1;32mc:\\ProgramData\\anaconda3\\Lib\\site-packages\\ipykernel\\kernelbase.py:1217\u001b[0m, in \u001b[0;36mKernel._input_request\u001b[1;34m(self, prompt, ident, parent, password)\u001b[0m\n\u001b[0;32m   1214\u001b[0m             \u001b[39mbreak\u001b[39;00m\n\u001b[0;32m   1215\u001b[0m \u001b[39mexcept\u001b[39;00m \u001b[39mKeyboardInterrupt\u001b[39;00m:\n\u001b[0;32m   1216\u001b[0m     \u001b[39m# re-raise KeyboardInterrupt, to truncate traceback\u001b[39;00m\n\u001b[1;32m-> 1217\u001b[0m     \u001b[39mraise\u001b[39;00m \u001b[39mKeyboardInterrupt\u001b[39;00m(\u001b[39m\"\u001b[39m\u001b[39mInterrupted by user\u001b[39m\u001b[39m\"\u001b[39m) \u001b[39mfrom\u001b[39;00m \u001b[39mNone\u001b[39;00m\n\u001b[0;32m   1218\u001b[0m \u001b[39mexcept\u001b[39;00m \u001b[39mException\u001b[39;00m:\n\u001b[0;32m   1219\u001b[0m     \u001b[39mself\u001b[39m\u001b[39m.\u001b[39mlog\u001b[39m.\u001b[39mwarning(\u001b[39m\"\u001b[39m\u001b[39mInvalid Message:\u001b[39m\u001b[39m\"\u001b[39m, exc_info\u001b[39m=\u001b[39m\u001b[39mTrue\u001b[39;00m)\n",
      "\u001b[1;31mKeyboardInterrupt\u001b[0m: Interrupted by user"
     ]
    }
   ],
   "source": [
    "while True :\n",
    "     name1=input( 'Enter Student Name | X for Exist')\n",
    "\n",
    "if name1 == 'X' or name1 =='x':\n",
    "     break\n",
    "names.append(name1)\n",
    "names"
   ]
  },
  {
   "cell_type": "code",
   "execution_count": null,
   "id": "b497dc74",
   "metadata": {},
   "outputs": [],
   "source": [
    "names"
   ]
  }
 ],
 "metadata": {
  "kernelspec": {
   "display_name": "Python 3 (ipykernel)",
   "language": "python",
   "name": "python3"
  },
  "language_info": {
   "codemirror_mode": {
    "name": "ipython",
    "version": 3
   },
   "file_extension": ".py",
   "mimetype": "text/x-python",
   "name": "python",
   "nbconvert_exporter": "python",
   "pygments_lexer": "ipython3",
   "version": "3.11.3"
  }
 },
 "nbformat": 4,
 "nbformat_minor": 5
}
