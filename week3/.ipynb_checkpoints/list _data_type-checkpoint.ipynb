{
 "cells": [
  {
   "cell_type": "code",
   "execution_count": null,
   "id": "db0db307-4853-47e2-9619-d72e9a6e07d5",
   "metadata": {
    "tags": []
   },
   "outputs": [],
   "source": [
    "s1_name = \"hammad\"\n",
    "s2_name = \"ali\"\n",
    "s3_name = \"saba\"\n",
    "s4_name = \"sadia\"\n",
    "\n",
    "print(s1_name)\n",
    "print(s2_name)\n",
    "print(s3_name)\n",
    "print(s4_name)"
   ]
  },
  {
   "cell_type": "code",
   "execution_count": null,
   "id": "febb07de-44ef-4987-b734-6cfdd40c4376",
   "metadata": {},
   "outputs": [],
   "source": [
    "syntax:\n",
    "\n",
    "[element1, element2, element3, ......]"
   ]
  },
  {
   "cell_type": "code",
   "execution_count": 5,
   "id": "ceb5ceea-80b2-49e1-8bdf-151a92940821",
   "metadata": {
    "tags": []
   },
   "outputs": [
    {
     "data": {
      "text/plain": [
       "['hammad', 'ali', 'saba', 'sadia']"
      ]
     },
     "execution_count": 5,
     "metadata": {},
     "output_type": "execute_result"
    }
   ],
   "source": [
    "names = [\"hammad\", \"ali\",\"saba\",\"sadia\"]\n",
    "names"
   ]
  },
  {
   "cell_type": "code",
   "execution_count": null,
   "id": "f088f840-1261-4f0f-b6ea-b5f1c346aa54",
   "metadata": {},
   "outputs": [],
   "source": [
    "# ->         0         1      2      3     #positive indexing\n",
    "names = [\"hammad\", \"ali\",\"saba\",\"sadia\"]\n",
    "# <-      -4        -3    -2     -1      #negative indexing\n",
    "names"
   ]
  },
  {
   "cell_type": "markdown",
   "id": "0483c100-ceb6-4234-95ba-8cd134f40bd8",
   "metadata": {},
   "source": [
    "extract value from iterative data type with index position\n",
    "syntax: '''list_variable[index]"
   ]
  },
  {
   "cell_type": "code",
   "execution_count": 7,
   "id": "776c1c69-be28-408a-b311-20c202e0ff00",
   "metadata": {
    "tags": []
   },
   "outputs": [
    {
     "name": "stdin",
     "output_type": "stream",
     "text": [
      "please insert name eith ',' separated:  raniya,\n"
     ]
    },
    {
     "data": {
      "text/plain": [
       "['raniya', '']"
      ]
     },
     "execution_count": 7,
     "metadata": {},
     "output_type": "execute_result"
    }
   ],
   "source": [
    "names1 = input(\"please insert name eith ',' separated: \")\n",
    "\n",
    "names1.split(\",\")\n"
   ]
  },
  {
   "cell_type": "code",
   "execution_count": 8,
   "id": "c6a001ff-b3c4-4ac2-9f56-21f7fa724dc9",
   "metadata": {
    "tags": []
   },
   "outputs": [
    {
     "name": "stdout",
     "output_type": "stream",
     "text": [
      "ali\n",
      "ali\n"
     ]
    }
   ],
   "source": [
    "# ->         0         1      2      3     #positive indexing\n",
    "names = [\"hammad\", \"ali\",\"saba\",\"sadia\"]\n",
    "# <-      -4        -3    -2     -1     #negative indexing\n",
    "# list_variable[index_number]\n",
    "print(names[1])\n",
    "print(names[-3])\n"
   ]
  },
  {
   "cell_type": "code",
   "execution_count": null,
   "id": "dec897e9-33a6-457a-a360-757601a8862d",
   "metadata": {},
   "outputs": [],
   "source": [
    "slicing on list\n",
    "syntax: '''list_variable[start:end:steps]'''\n",
    "* start = this number will be included\n",
    "* end = excluded end -1\n",
    "* step = sequence/gap"
   ]
  }
 ],
 "metadata": {
  "kernelspec": {
   "display_name": "Python 3 (ipykernel)",
   "language": "python",
   "name": "python3"
  },
  "language_info": {
   "codemirror_mode": {
    "name": "ipython",
    "version": 3
   },
   "file_extension": ".py",
   "mimetype": "text/x-python",
   "name": "python",
   "nbconvert_exporter": "python",
   "pygments_lexer": "ipython3",
   "version": "3.11.3"
  }
 },
 "nbformat": 4,
 "nbformat_minor": 5
}
