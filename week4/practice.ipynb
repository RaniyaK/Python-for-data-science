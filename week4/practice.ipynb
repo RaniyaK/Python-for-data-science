{
 "cells": [
  {
   "cell_type": "code",
   "execution_count": null,
   "metadata": {},
   "outputs": [],
   "source": [
    "---->        0        1         2  # positive indexing\n",
    "a = list['dareer'\"Raees ahmed\",30]\n",
    "<----         -3       -2       -1\n",
    "a= [1]\n"
   ]
  },
  {
   "cell_type": "code",
   "execution_count": 3,
   "metadata": {},
   "outputs": [
    {
     "name": "stdout",
     "output_type": "stream",
     "text": [
      "{'fname': 'Raees ahmed', 'name': 'dareer', 'age': 30}\n"
     ]
    },
    {
     "data": {
      "text/plain": [
       "'dareer'"
      ]
     },
     "execution_count": 3,
     "metadata": {},
     "output_type": "execute_result"
    }
   ],
   "source": [
    "a = {\n",
    "    'fname': \"Raees ahmed\",\n",
    "    'name' :\"dareer\",\n",
    "    'age':30\n",
    "\n",
    "}\n",
    "print(a)\n",
    "a['name']"
   ]
  },
  {
   "cell_type": "code",
   "execution_count": 9,
   "metadata": {},
   "outputs": [
    {
     "name": "stdout",
     "output_type": "stream",
     "text": [
      "{'roll_no': [1, 2, 3], 'name': ['a', 'b', 'c'], 'course': ['AI', 'DL', 'DV']}\n"
     ]
    }
   ],
   "source": [
    "import pandas as pd\n",
    "data ={\"roll_no\":[1,2,3],\n",
    "      'name'  :['a',\"b\",\"c\"],\n",
    "    'course' :['AI',\"DL\",\"DV\"]\n",
    "    }\n",
    "print(data)\n"
   ]
  },
  {
   "cell_type": "code",
   "execution_count": 14,
   "metadata": {},
   "outputs": [
    {
     "name": "stdout",
     "output_type": "stream",
     "text": [
      "{'name': 'raniya', 20: 'Hello world'}\n",
      "Hello world\n"
     ]
    }
   ],
   "source": [
    "a = {\"name\" :'raniya',\n",
    "     20     : \"Hello world\"\n",
    "     \n",
    "     }\n",
    "print(a)\n",
    "print(a[20])"
   ]
  },
  {
   "cell_type": "code",
   "execution_count": 28,
   "metadata": {},
   "outputs": [
    {
     "name": "stdout",
     "output_type": "stream",
     "text": [
      "['d', 4, 33, 'a', 'a', 'b']\n",
      "{33, 'd', 4, 'b', 'a'}\n",
      "['d', 'b', 'a']\n",
      "[33, 4]\n",
      "[['d', 'b', 'a', 33, 4]]\n",
      "[4, 33]\n",
      "[4, 33, 'd', 'b', 'a']\n"
     ]
    }
   ],
   "source": [
    "a=['d',4,33,'a','a','b']\n",
    "print(a)\n",
    "a={'d',4,33,'a','a','b'}\n",
    "print(a)\n",
    "\n",
    "a_string=[i for i in a if isinstance(i,str)]\n",
    "print(a_string)\n",
    "\n",
    "a_integer=[i for i in a if isinstance(i,int)]\n",
    "print(a_integer)\n",
    "\n",
    "a_sorted=[a_string+a_integer]\n",
    "print(a_sorted)\n",
    "\n",
    "a_integer.reverse()\n",
    "print(a_integer)\n",
    "\n",
    "a= a_integer+a_string\n",
    "print(a)\n",
    "\n",
    "\n",
    "\n",
    "\n",
    "\n"
   ]
  },
  {
   "cell_type": "code",
   "execution_count": 8,
   "metadata": {},
   "outputs": [
    {
     "data": {
      "text/plain": [
       "'We love our country! Pakistan zinda bad!\\npakistan one of the best country in the world!'"
      ]
     },
     "metadata": {},
     "output_type": "display_data"
    },
    {
     "data": {
      "text/plain": [
       "['We love our country! Pakistan zinda bad!',\n",
       " 'pakistan one of the best country in the world!']"
      ]
     },
     "execution_count": 8,
     "metadata": {},
     "output_type": "execute_result"
    }
   ],
   "source": [
    "import re\n",
    "txt = \"\"\"We love our country! Pakistan zinda bad!\n",
    "pakistan one of the best country in the world!\"\"\"\n",
    "display(txt)\n",
    "pattern = \".+\"\n",
    "re.findall(pattern,txt,re.I)"
   ]
  },
  {
   "cell_type": "code",
   "execution_count": 13,
   "metadata": {},
   "outputs": [
    {
     "data": {
      "text/plain": [
       "\"\\nt's never too early to start nonfiction learning! Read this short story full of facts about giant pandas, and learn early reading concepts like fluency, too.\\n\""
      ]
     },
     "metadata": {},
     "output_type": "display_data"
    },
    {
     "data": {
      "text/plain": [
       "[\"t's never too early to start nonfiction learning! Read this short story full of facts about giant pandas, and learn early reading concepts like fluency, too.\"]"
      ]
     },
     "execution_count": 13,
     "metadata": {},
     "output_type": "execute_result"
    }
   ],
   "source": [
    "import re\n",
    "txt= \"\"\"\n",
    "t's never too early to start nonfiction learning! Read this short story full of facts about giant pandas, and learn early reading concepts like fluency, too.\n",
    "\"\"\"\n",
    "display(txt)\n",
    "pattern = \".+\"\n",
    "re.findall(pattern,txt,re.I)"
   ]
  },
  {
   "cell_type": "code",
   "execution_count": null,
   "metadata": {},
   "outputs": [],
   "source": []
  }
 ],
 "metadata": {
  "kernelspec": {
   "display_name": "base",
   "language": "python",
   "name": "python3"
  },
  "language_info": {
   "codemirror_mode": {
    "name": "ipython",
    "version": 3
   },
   "file_extension": ".py",
   "mimetype": "text/x-python",
   "name": "python",
   "nbconvert_exporter": "python",
   "pygments_lexer": "ipython3",
   "version": "3.11.3"
  },
  "orig_nbformat": 4
 },
 "nbformat": 4,
 "nbformat_minor": 2
}
