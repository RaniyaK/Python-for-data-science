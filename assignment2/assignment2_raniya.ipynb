{
 "cells": [
  {
   "cell_type": "code",
   "execution_count": 3,
   "metadata": {},
   "outputs": [
    {
     "name": "stdout",
     "output_type": "stream",
     "text": [
      "My name is Raniya khan I am 23 years old and I live in Pakistan\n"
     ]
    }
   ],
   "source": [
    "name = \"Raniya khan\"\n",
    "age = \"23\"\n",
    "country = \"Pakistan\"\n",
    "introduction = \"My name is \" + name +\\\n",
    "\" I am \"+age+ \" years old\" +\\\n",
    "  \" and I live in \"+country \n",
    "print(introduction)\n",
    "  "
   ]
  },
  {
   "cell_type": "code",
   "execution_count": 7,
   "metadata": {},
   "outputs": [
    {
     "name": "stdout",
     "output_type": "stream",
     "text": [
      "I bought 2 book (s) at 500 each, for a total of $ 1000\n"
     ]
    }
   ],
   "source": [
    "product_name = \"book\"\n",
    "price = 500\n",
    "quantity = 2\n",
    "total_cost =  price * quantity\n",
    "formatted_string = \"I bought {} {} (s) at {} each, for a total of $ {}\".format(quantity,product_name,price,total_cost)\n",
    "print(formatted_string)"
   ]
  },
  {
   "cell_type": "code",
   "execution_count": 10,
   "metadata": {},
   "outputs": [
    {
     "name": "stdout",
     "output_type": "stream",
     "text": [
      "The temperature in karachi is 37 °C.\n"
     ]
    }
   ],
   "source": [
    "city = \"karachi\"\n",
    "temperature = \"37\"\n",
    "string_interpolation = f\"The temperature in {city} is {temperature} °C.\"\n",
    "print(string_interpolation)"
   ]
  },
  {
   "cell_type": "code",
   "execution_count": 15,
   "metadata": {},
   "outputs": [
    {
     "name": "stdout",
     "output_type": "stream",
     "text": [
      "My name is raniya khan. I am 23 years old.\n"
     ]
    }
   ],
   "source": [
    "first_name = \"raniya\"\n",
    "last_name = \"khan\"\n",
    "birth_year = 2000\n",
    "current_year = 2023\n",
    "age = current_year - birth_year\n",
    "string =  \"My name is %s %s. I am %d years old.\"%(first_name,last_name,age)\n",
    "print(string)   \n"
   ]
  },
  {
   "cell_type": "code",
   "execution_count": 24,
   "metadata": {},
   "outputs": [
    {
     "name": "stdout",
     "output_type": "stream",
     "text": [
      "i went to buy a bicycle its original price is 2000 the shopkeeper gave me a discount of 15% and i paid him 1700.0.\n"
     ]
    }
   ],
   "source": [
    "product_name = \"bicycle\"\n",
    "discount = 15\n",
    "original_price = 2000\n",
    "discounted_price = original_price * (1 - discount / 100)\n",
    "sale_invoice = \"i went to buy a \" +product_name+ \" its original price is {} \".format(original_price) +\\\n",
    "f\"the shopkeeper gave me a discount of {discount}% \"+ \"and i paid him %s.\" %(discounted_price)\n",
    "print(sale_invoice)\n",
    "\n",
    "\n"
   ]
  },
  {
   "cell_type": "markdown",
   "metadata": {},
   "source": [
    "1. Create two variables `product1` and `product2`  and assign a product name.\n",
    "2. Create two variables `quantity1` and `quantity2`  and assign quantity.\n",
    "3. Create a variable `discount` and assign a discount percentage.\n",
    "4. Create a variable `original_price1` and `original_price2` assign an original price.\n",
    "5. Calculate the total cost using the formula: `total_cost = original_price1 * quantity1 + original_price2 * quantity2`\n",
    "4. Calculate the discounted price using the formula: `discounted_price = total_cost* (1 - discount / 100)`.\n",
    "5. Using any combination of string formatting methods (`+`, `.format()`, `f''`, `%()`), create a descriptive string with the product name, original price, discount percentage, and discounted price.\n",
    "6. Print the descriptive string."
   ]
  },
  {
   "cell_type": "code",
   "execution_count": 9,
   "metadata": {},
   "outputs": [
    {
     "name": "stdout",
     "output_type": "stream",
     "text": [
      "mobilecamera original_price1 is 3000 original_price2 is 2000 discount10price of 6300.0\n"
     ]
    }
   ],
   "source": [
    "product_name1 = \"mobile\"\n",
    "product_name2 = \"camera\"\n",
    "quantity1 = 1\n",
    "quantity2 = 2\n",
    "discount = 10\n",
    "original_price1 = 3000\n",
    "original_price2 = 2000\n",
    "total_cost = original_price1 * quantity1 + original_price2 * quantity2\n",
    "sale_invoice = discounted_price = total_cost* (1 - discount / 100)\n",
    "descriptive_string = product_name1 + product_name2+\\\n",
    "\" original_price1 is {} original_price2 is {}\".format(original_price1,original_price2)+\\\n",
    "f\" discount{discount}\" + \"price of %s\" % (discounted_price)\n",
    "print(descriptive_string)\n",
    "\n"
   ]
  }
 ],
 "metadata": {
  "kernelspec": {
   "display_name": "base",
   "language": "python",
   "name": "python3"
  },
  "language_info": {
   "codemirror_mode": {
    "name": "ipython",
    "version": 3
   },
   "file_extension": ".py",
   "mimetype": "text/x-python",
   "name": "python",
   "nbconvert_exporter": "python",
   "pygments_lexer": "ipython3",
   "version": "3.11.3"
  },
  "orig_nbformat": 4
 },
 "nbformat": 4,
 "nbformat_minor": 2
}
