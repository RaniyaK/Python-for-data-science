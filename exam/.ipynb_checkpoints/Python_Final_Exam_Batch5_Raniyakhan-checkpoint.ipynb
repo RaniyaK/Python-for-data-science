{
 "cells": [
  {
   "cell_type": "markdown",
   "metadata": {
    "id": "S6aX5GSQkdqk"
   },
   "source": [
    "# NED University of Engineering & Technology\n",
    "# NED Academy\n",
    "#  PGD Batch 5 Data Science Final Exam (Online & Hybrid Mode Students)"
   ]
  },
  {
   "cell_type": "markdown",
   "metadata": {
    "id": "n-FwP1uqkdqm"
   },
   "source": [
    "### Note: must Replace CNIC and Name\n",
    "\n",
    "Example:<br>\n",
    "    \n",
    "Midterm_4123456789123_Muhammad_Qasim"
   ]
  },
  {
   "cell_type": "markdown",
   "metadata": {
    "id": "tKlgjyHskdqm"
   },
   "source": [
    "### Final Exame tips:\n",
    "* Paper timing: 3 Hours\n",
    "* Total Questions 20 you have to attempt all below tasks\n",
    "    * 5 questions are theoritical\n",
    "    * 15 are practical tasks\n",
    "* you can use any logic to achieve below tasks results\n",
    "* there is not any negative marking\n"
   ]
  },
  {
   "cell_type": "markdown",
   "metadata": {
    "id": "cjZv9K1ukdqm"
   },
   "source": [
    "## Task1:\n",
    "    Names: Store the names of a few of your friends in a list called `names`. Print each person’s name and index number each element in the list, one at a time.\n",
    "    \n",
    "```\n",
    "Expected output:\n",
    "\n",
    "['Qasim','Hamza','Asif']\n",
    "\n",
    "0 , Qasim\n",
    "1 , Hamza\n",
    "2 , Asif\n",
    "```\n",
    "\n",
    "#### hint: enu...te()"
   ]
  },
  {
   "cell_type": "code",
   "execution_count": 6,
   "metadata": {
    "id": "Z_Uyb_fOkdqm"
   },
   "outputs": [
    {
     "name": "stdout",
     "output_type": "stream",
     "text": [
      "['Raniya', 'Hamza', 'Ali', 'Rabbiya']\n",
      "0 , Raniya\n",
      "1 , Hamza\n",
      "2 , Ali\n",
      "3 , Rabbiya\n"
     ]
    }
   ],
   "source": [
    "names=['Raniya','Hamza','Ali','Rabbiya']\n",
    "print(names)\n",
    "for i, n in enumerate (names):\n",
    "    print(i,',',n)"
   ]
  },
  {
   "cell_type": "markdown",
   "metadata": {
    "id": "LT5Bxr3Ykdqn"
   },
   "source": [
    "## Task2:\n",
    "Store your 3 friends names in `names` list<br>\n",
    "Store three messages in `messages` list<br>\n",
    "then print each friend and message from friends and messages lists\n",
    "    \n",
    "```\n",
    "Expected output:\n",
    "\n",
    "['Qasim','Hamza','Asif']\n",
    "['Welcome Dear Teacher','Charter Accountant',\"Good job Admin\"]\n",
    "\n",
    "'Qasim, Welcome Dear Teacher'\n",
    "'Hamza, Charter Accountant'\n",
    "'Asif, Good job Admin'\n",
    "\n",
    "```\n",
    "\n",
    "#### hint: z..p()"
   ]
  },
  {
   "cell_type": "code",
   "execution_count": 9,
   "metadata": {
    "id": "i7DE3ggmkdqn"
   },
   "outputs": [
    {
     "name": "stdout",
     "output_type": "stream",
     "text": [
      "Qasim,Welcome Dear Teacher\n",
      "Hamza,Charter Accountant\n",
      "Asif,Good job Admin\n"
     ]
    }
   ],
   "source": [
    "names = ['Qasim','Hamza','Asif']\n",
    "messages = ['Welcome Dear Teacher','Charter Accountant',\"Good job Admin\"]\n",
    "for name,message in zip(names,messages):\n",
    "    print(f\"{name},{message}\")"
   ]
  },
  {
   "cell_type": "markdown",
   "metadata": {
    "id": "qJpfb8ulkdqn"
   },
   "source": [
    "### Task3:\n",
    "Guest List: If you could invite anyone, living or deceased, to dinner, who would you invite? Make a list that includes at least three people you’d like to invite to dinner. Then use your list to print a message to each person, inviting them to dinner."
   ]
  },
  {
   "cell_type": "code",
   "execution_count": 11,
   "metadata": {
    "id": "EgKs-pbKkdqo"
   },
   "outputs": [
    {
     "name": "stdout",
     "output_type": "stream",
     "text": [
      "Dear Raniya,\n",
      " you are invited to have dinner with me and other friends. please join us for an evening of great food and conversation\n",
      "Dear Hamza,\n",
      " you are invited to have dinner with me and other friends. please join us for an evening of great food and conversation\n",
      "Dear Rabbiya,\n",
      " you are invited to have dinner with me and other friends. please join us for an evening of great food and conversation\n"
     ]
    }
   ],
   "source": [
    "Friends= ['Raniya', 'Hamza', 'Rabbiya']\n",
    "for i in Friends:\n",
    "    print(f\"Dear {i},\\n you are invited to have dinner with me and other friends. please join us for an evening of great food and conversation\") "
   ]
  },
  {
   "cell_type": "markdown",
   "metadata": {
    "id": "jCd22z68kdqo"
   },
   "source": [
    "### Task4:\n",
    "Changing Guest List: You just heard that one of your guests can’t make the dinner, so you need to send out a new set of invitations. You’ll have to think of someone else to invite.\n",
    "\n",
    "* Start with your program from Task 3. Add a print statement at the end of your program stating the name of the guest who can’t make it.\n",
    "\n",
    "* Modify your list, replacing the name of the guest who can’t make it with the name of the new person you are inviting.\n",
    "\n",
    "* Print a second set of invitation messages, one for each person who is still in your list."
   ]
  },
  {
   "cell_type": "code",
   "execution_count": null,
   "metadata": {
    "id": "PkopbwMTkdqo"
   },
   "outputs": [],
   "source": []
  },
  {
   "cell_type": "markdown",
   "metadata": {
    "id": "yaqsH8skkdqo"
   },
   "source": [
    "### Task5:\n",
    "More Guests: You just found a bigger dinner table, so now more space is available. Think of three more guests to invite to dinner.\n",
    "* Start with your program from task4. Add a print statement to the end of your program informing people that you found a bigger dinner table.\n",
    "* Add one new guest to the beginning of your array(list).\n",
    "\n",
    "* Add one new guest to the middle of your array.\n",
    "* Use append() to add one new guest to the end of your list.\n",
    "* Print a new set of invitation messages, one for each person in your list."
   ]
  },
  {
   "cell_type": "code",
   "execution_count": 25,
   "metadata": {
    "id": "G4XTS-MGkdqo"
   },
   "outputs": [
    {
     "name": "stdout",
     "output_type": "stream",
     "text": [
      "Dear Raniya,\n",
      "You are invited to have dinner with me and our friends. Please join us for an evening of great food and conversation!\n",
      "\n",
      "Dear Hamza,\n",
      "You are invited to have dinner with me and our friends. Please join us for an evening of great food and conversation!\n",
      "\n",
      "Dear Rabbiya,\n",
      "You are invited to have dinner with me and our friends. Please join us for an evening of great food and conversation!\n",
      "\n",
      "\n",
      "Hamza is unable make it to the dinner so lets invite Mehmood.\n",
      "\n",
      "\n",
      "Dear Raniya,\n",
      "You are invited to have dinner with me and our friends. Please join us for an evening of great food and conversation!\n",
      "\n",
      "Dear Rabbiya,\n",
      "You are invited to have dinner with me and our friends. Please join us for an evening of great food and conversation!\n",
      "\n",
      "Dear Mehmood,\n",
      "You are invited to have dinner with me and our friends. Please join us for an evening of great food and conversation!\n",
      "\n",
      "\n",
      " Hey guys I have found a bigger dinner table, lets invite some more of our friends!\n",
      "\n",
      "['Arsalan', 'Raniya', 'Rabbiya', 'Mehmood']\n",
      "['Arsalan', 'Raniya', 'Rabbiya', 'Saad', 'Mehmood']\n",
      "['Arsalan', 'Raniya', 'Rabbiya', 'Saad', 'Mehmood', 'Aslam']\n",
      "\n",
      "Dear Arsalan,\n",
      "You are invited to have dinner with me and our friends. Please join us for an evening of great food and conversation!\n",
      "\n",
      "\n",
      "Dear Raniya,\n",
      "You are invited to have dinner with me and our friends. Please join us for an evening of great food and conversation!\n",
      "\n",
      "\n",
      "Dear Rabbiya,\n",
      "You are invited to have dinner with me and our friends. Please join us for an evening of great food and conversation!\n",
      "\n",
      "\n",
      "Dear Saad,\n",
      "You are invited to have dinner with me and our friends. Please join us for an evening of great food and conversation!\n",
      "\n",
      "\n",
      "Dear Mehmood,\n",
      "You are invited to have dinner with me and our friends. Please join us for an evening of great food and conversation!\n",
      "\n",
      "\n",
      "Dear Aslam,\n",
      "You are invited to have dinner with me and our friends. Please join us for an evening of great food and conversation!\n",
      "\n"
     ]
    }
   ],
   "source": [
    "friends = ['Raniya', 'Hamza', 'Rabbiya']\n",
    "\n",
    "for i in friends:\n",
    "    print(f\"Dear {i},\\nYou are invited to have dinner with me and our friends. Please join us for an evening of great food and conversation!\\n\")\n",
    "\n",
    "cant_come = 'Hamza'\n",
    "new_guest = 'Mehmood'\n",
    "print (f\"\\n{cant_come} is unable make it to the dinner so lets invite {new_guest}.\\n\\n\")\n",
    "\n",
    "friends.remove(cant_come)\n",
    "friends.append(new_guest)\n",
    "\n",
    "for i in friends:\n",
    "    print(f\"Dear {i},\\nYou are invited to have dinner with me and our friends. Please join us for an evening of great food and conversation!\\n\")\n",
    "\n",
    "print(\"\\n Hey guys I have found a bigger dinner table, lets invite some more of our friends!\\n\")\n",
    "\n",
    "new_guests = ['Arsalan', 'Saad', 'Aslam']\n",
    "friends.insert(0, new_guests[0])\n",
    "print(friends)\n",
    "friends.insert(3, new_guests[1])\n",
    "print(friends)\n",
    "friends.append(new_guests[2])\n",
    "print(friends)\n",
    "for i in friends:\n",
    "    print(f\"\\nDear {i},\\nYou are invited to have dinner with me and our friends. Please join us for an evening of great food and conversation!\\n\")"
   ]
  },
  {
   "cell_type": "markdown",
   "metadata": {
    "id": "9Qz28Az2kdqo"
   },
   "source": [
    "### Task6:\n",
    "Intentional Error: If you haven’t received an array index error in one of your programs yet, try to make one happen. Change an index in one of your programs to produce an index error. Make sure you correct the error before closing the program.    "
   ]
  },
  {
   "cell_type": "code",
   "execution_count": 35,
   "metadata": {
    "id": "g4kclHaBkdqo"
   },
   "outputs": [
    {
     "name": "stdout",
     "output_type": "stream",
     "text": [
      "Dear Raniya,\n",
      "You are invited to have dinner with me and our friends. Please join us for an evening of great food and conversation!\n",
      "\n",
      "Dear Hamza,\n",
      "You are invited to have dinner with me and our friends. Please join us for an evening of great food and conversation!\n",
      "\n",
      "Dear Rabbiya,\n",
      "You are invited to have dinner with me and our friends. Please join us for an evening of great food and conversation!\n",
      "\n",
      "\n",
      "Hamza is unable make it to the dinner so lets invite Mehmood.\n",
      "\n",
      "\n",
      "Dear Raniya,\n",
      "You are invited to have dinner with me and our friends. Please join us for an evening of great food and conversation!\n",
      "\n",
      "Dear Rabbiya,\n",
      "You are invited to have dinner with me and our friends. Please join us for an evening of great food and conversation!\n",
      "\n",
      "Dear Mehmood,\n",
      "You are invited to have dinner with me and our friends. Please join us for an evening of great food and conversation!\n",
      "\n",
      "\n",
      " Hey guys I have found a bigger dinner table, lets invite some more of our friends!\n",
      "\n",
      "['Arsalan', 'Raniya', 'Rabbiya', 'Mehmood']\n",
      "['Arsalan', 'Raniya', 'Rabbiya', 'Saad', 'Mehmood']\n"
     ]
    },
    {
     "ename": "IndexError",
     "evalue": "list index out of range",
     "output_type": "error",
     "traceback": [
      "\u001b[1;31m---------------------------------------------------------------------------\u001b[0m",
      "\u001b[1;31mIndexError\u001b[0m                                Traceback (most recent call last)",
      "Cell \u001b[1;32mIn[35], line 23\u001b[0m\n\u001b[0;32m     21\u001b[0m friends\u001b[38;5;241m.\u001b[39minsert(\u001b[38;5;241m3\u001b[39m, new_guests[\u001b[38;5;241m1\u001b[39m])\n\u001b[0;32m     22\u001b[0m \u001b[38;5;28mprint\u001b[39m(friends)\n\u001b[1;32m---> 23\u001b[0m friends\u001b[38;5;241m.\u001b[39mappend(new_guests[\u001b[38;5;241m3\u001b[39m])\n\u001b[0;32m     24\u001b[0m \u001b[38;5;28mprint\u001b[39m(friends)\n\u001b[0;32m     25\u001b[0m \u001b[38;5;28;01mfor\u001b[39;00m i \u001b[38;5;129;01min\u001b[39;00m friends:\n",
      "\u001b[1;31mIndexError\u001b[0m: list index out of range"
     ]
    }
   ],
   "source": [
    "friends = ['Raniya', 'Hamza', 'Rabbiya']\n",
    "\n",
    "for i in friends:\n",
    "    print(f\"Dear {i},\\nYou are invited to have dinner with me and our friends. Please join us for an evening of great food and conversation!\\n\")\n",
    "\n",
    "cant_come = 'Hamza'\n",
    "new_guest = 'Mehmood'\n",
    "print (f\"\\n{cant_come} is unable make it to the dinner so lets invite {new_guest}.\\n\\n\")\n",
    "\n",
    "friends.remove(cant_come)\n",
    "friends.append(new_guest)\n",
    "\n",
    "for i in friends:\n",
    "    print(f\"Dear {i},\\nYou are invited to have dinner with me and our friends. Please join us for an evening of great food and conversation!\\n\")\n",
    "\n",
    "print(\"\\n Hey guys I have found a bigger dinner table, lets invite some more of our friends!\\n\")\n",
    "\n",
    "new_guests = ['Arsalan', 'Saad', 'Aslam']\n",
    "friends.insert(0, new_guests[0])\n",
    "print(friends)\n",
    "friends.insert(3, new_guests[1])\n",
    "print(friends)\n",
    "friends.append(new_guests[3])\n",
    "print(friends)\n",
    "for i in friends:\n",
    "    print(f\"\\nDear {i},\\nYou are invited to have dinner with me and our friends. Please join us for an evening of great food and conversation!\\n\")"
   ]
  },
  {
   "cell_type": "markdown",
   "metadata": {
    "id": "QiZ5xXYvkdqo"
   },
   "source": [
    "### Task7\n",
    "Conditional Tests: Write a series of conditional tests. Print a statement describing each test and your prediction for the results of each test. Your code should look something like this:\n",
    "\n",
    "```\n",
    "car = 'BMW'\n",
    "print(\"Is car == 'BMW'? I predict True.\")\n",
    "print(car == 'subaru')\n",
    "```\n",
    "\n",
    "* Look closely at your results, and make sure you understand why each line evaluates to True or False.\n",
    "\n",
    "* Create at least 10 tests. Have at least 5 tests evaluate to True and another 5 tests evaluate to False.\n",
    "\n",
    "\n",
    "    "
   ]
  },
  {
   "cell_type": "code",
   "execution_count": 40,
   "metadata": {
    "id": "btdrROrokdqp"
   },
   "outputs": [
    {
     "name": "stdout",
     "output_type": "stream",
     "text": [
      "Is car == 'BMW'? I predict True.\n",
      "True\n",
      "Is age > 30? I predict True.\n",
      "True\n",
      "Is car != 'Mercedes'? I predict True.\n",
      "Is height in cm >= 170?\n",
      "False\n",
      "Is marks < 50? I fail.\n",
      "True\n",
      "Is weight <= 70? I predict True.\n",
      "True\n",
      "Is car in ['BMW', 'Audi', 'Mercedes']? I predict True.\n",
      "True\n",
      "Is book price > 70? its expensive\n",
      "False\n",
      "I want milk and buiscuits?\n",
      "False\n",
      "Is it not the holiday?\n",
      "False\n"
     ]
    }
   ],
   "source": [
    "car = 'BMW'\n",
    "\n",
    "# Test 1\n",
    "print(\"Is car == 'BMW'? I predict True.\")\n",
    "print(car == 'BMW')\n",
    "\n",
    "# Test 2\n",
    "age=26\n",
    "print(\"Is age > 30? I predict True.\")\n",
    "print(age != 30)\n",
    "\n",
    "# Test 3\n",
    "print(\"Is car != 'Mercedes'? I predict True.\")\n",
    "\n",
    "\n",
    "# Test 4\n",
    "height_cm = 162\n",
    "print(\"Is height in cm >= 170?\")\n",
    "print(height_cm >= 170)\n",
    "\n",
    "# Test 5\n",
    "marks = 42\n",
    "print(\"Is marks < 50? I fail.\")\n",
    "print(marks < 50) \n",
    "\n",
    "# Test 6\n",
    "weight = 65\n",
    "print(\"Is weight <= 70? I predict True.\")\n",
    "print(weight <= 70) \n",
    "\n",
    "\n",
    "# Test 7\n",
    "print(\"Is car in ['BMW', 'Audi', 'Mercedes']? I predict True.\")\n",
    "print(car in ['BMW', 'Audi', 'Mercedes'])\n",
    "\n",
    "# Test 8\n",
    "book_price = 40\n",
    "print(\"Is book price > 70? its expensive\")\n",
    "print(book_price > 70)\n",
    "\n",
    "# Test 9\n",
    "milk = False\n",
    "buiscuits = True\n",
    "print(\"I want milk and buiscuits?\")\n",
    "print(milk and buiscuits)\n",
    "\n",
    "\n",
    "# Test 10\n",
    "holiday = True\n",
    "print(\"Is it not the holiday?\")\n",
    "print(not holiday)"
   ]
  },
  {
   "cell_type": "markdown",
   "metadata": {
    "id": "F55eQzTskdqp"
   },
   "source": [
    "### Task8:\n",
    "More Conditional Tests: You don’t have to limit the number of tests you create to 10. If you want to try more comparisons, write more tests. Have at least one True and one False result for each of the following:\n",
    "\n",
    "* Tests for equality and inequality with strings\n",
    "\n",
    "* Tests using the lower case function\n",
    "\n",
    "* Numerical tests involving equality and inequality, greater than and less than, greater than or equal to, and less than or equal to\n",
    "\n",
    "* Tests using \"and\" and \"or\" operators\n",
    "\n",
    "* Test whether an item is in a list\n",
    "\n",
    "* Test whether an item is not in a list"
   ]
  },
  {
   "cell_type": "code",
   "execution_count": 42,
   "metadata": {
    "id": "ZuzFar-xkdqp"
   },
   "outputs": [
    {
     "name": "stdout",
     "output_type": "stream",
     "text": [
      "Is Hello == Helo?\n",
      "False\n",
      "Is Hello != World?\n",
      "True\n",
      "Is ExaMinaTIOn in lowercase == 'examination'?\n",
      "True\n",
      "Is ResultS in lowercase == 'Results'?\n",
      "False\n",
      "Is 10 == 5?\n",
      "True\n",
      "Is age not equal to 18?\n",
      "False\n",
      "Is 10 > 5?\n",
      "True\n",
      "Is it raining and cold?\n",
      "False both\n",
      "Is it sunny or hot?\n",
      "True\n",
      "Is 'mango' in the list of fruits? will be false\n",
      "False\n",
      "Is 'harry potter 4' not in the list of books? will be True.\n",
      "True\n"
     ]
    }
   ],
   "source": [
    "# Tests for equality and inequality with strings\n",
    "string1 = \"Hello\"\n",
    "string2 = \"Helo\"\n",
    "print(f\"Is {string1} == {string2}?\")\n",
    "print(string1 == string2)\n",
    "\n",
    "string3 = \"World\"\n",
    "print(f\"Is {string1} != {string3}?\")\n",
    "print(string1 != string3)\n",
    "\n",
    "# Tests using the lower case function\n",
    "text = \"ExaMinaTIOn\"\n",
    "print(f\"Is {text} in lowercase == 'examination'?\")\n",
    "print(text.lower() == \"examination\")\n",
    "\n",
    "text = \"ResultS\"\n",
    "print(f\"Is {text} in lowercase == 'Results'?\")\n",
    "print(text.lower() == \"Results\")\n",
    "\n",
    "# Numerical tests involving equality and inequality, greater than and less than, greater than or equal to, and less than or equal to\n",
    "num1 = 5\n",
    "num2 = 5\n",
    "print(\"Is 10 == 5?\")\n",
    "print(num1 == num2)\n",
    "\n",
    "age = 18\n",
    "print(\"Is age not equal to 18?\")\n",
    "print(age != 18)\n",
    "\n",
    "print(\"Is 10 > 5?\")\n",
    "print(num1 > num2 or num1 >= num1)\n",
    "\n",
    "# Tests using \"and\" and \"or\" operators\n",
    "\n",
    "raining = False\n",
    "cold = True\n",
    "print(\"Is it raining and cold?\")\n",
    "print(raining and cold,\"both\")\n",
    "\n",
    "\n",
    "sunny = True\n",
    "hot = False\n",
    "print(\"Is it sunny or hot?\")\n",
    "print(sunny or warm)\n",
    "\n",
    "\n",
    "# Test whether an item is in a list\n",
    "\n",
    "fruits = ['apple', 'banana', 'cherry']\n",
    "print(\"Is 'mango' in the list of fruits? will be false\")\n",
    "print('mango' in fruits)\n",
    "\n",
    "# Test whether an item is not in a list\n",
    "\n",
    "books = ['harry potter 1', 'harry potter 2', 'harry potter 3']\n",
    "print(\"Is 'harry potter 4' not in the list of books? will be True.\")\n",
    "print('harry potter 4' not in books)"
   ]
  },
  {
   "cell_type": "markdown",
   "metadata": {
    "id": "-ERrZopbkdqp"
   },
   "source": [
    "### Task9:\n",
    "Hello Admin: Make a list of five or more usernames, including the name 'admin'. Imagine you are writing code that will print a greeting to each user after they log in to a website. Loop through the list, and print a greeting to each user:\n",
    "* If the username is 'admin', print a special greeting, such as Hello admin, would you like to see a status report?\n",
    "\n",
    "* Otherwise, print a generic greeting, such as Hello Eric, thank you for logging in again.    "
   ]
  },
  {
   "cell_type": "code",
   "execution_count": 44,
   "metadata": {
    "id": "z51Cc92qkdqp"
   },
   "outputs": [
    {
     "name": "stdout",
     "output_type": "stream",
     "text": [
      "Hello admin, would you like to see a status report?\n",
      "Hello Raniya, thank you for logging in again.\n",
      "Hello Ali, thank you for logging in again.\n",
      "Hello Rabbiya, thank you for logging in again.\n",
      "Hello Butto, thank you for logging in again.\n"
     ]
    }
   ],
   "source": [
    "usernames = ['admin', 'raniya', 'ali', 'rabbiya', 'Butto']\n",
    "\n",
    "for i in usernames:\n",
    "    if i == 'admin':\n",
    "        print(\"Hello admin, would you like to see a status report?\")\n",
    "    else:\n",
    "        print(f\"Hello {i.capitalize()}, thank you for logging in again.\")\n",
    "\n"
   ]
  },
  {
   "cell_type": "markdown",
   "metadata": {
    "id": "tCNLZNHikdqp"
   },
   "source": [
    "### Task10:\n",
    "Checking Usernames: Do the following to create a program that simulates how websites ensure that everyone has a unique username.\n",
    "* Make a list of five or more usernames called current_users.\n",
    "\n",
    "* Make another list of five usernames called new_users. Make sure one or two of the new usernames are also in the current_users list.\n",
    "\n",
    "* Loop through the new_users list to see if each new username has already been used. If it has, print a message that the person will need to enter a new username. If a username has not been used, print a message saying that the username is available.\n",
    "\n",
    "* Make sure your comparison is case insensitive. If 'John' has been used, 'JOHN' should not be accepted.    "
   ]
  },
  {
   "cell_type": "code",
   "execution_count": 45,
   "metadata": {
    "id": "c47GTO1Tkdqp"
   },
   "outputs": [
    {
     "name": "stdout",
     "output_type": "stream",
     "text": [
      "The username 'usama' is available.\n",
      "Sorry, the username 'ali' is already taken. Please choose a different username.\n",
      "The username 'sara' is available.\n",
      "Sorry, the username 'raniya' is already taken. Please choose a different username.\n",
      "The username 'arsalan' is available.\n"
     ]
    }
   ],
   "source": [
    "current_users = ['raniya', 'ali', 'rabbiya', 'aslam', 'butto']\n",
    "new_users = ['usama', 'ali', 'sara', 'raniya', 'arsalan']\n",
    "\n",
    "current_users_lower = [i.lower() for i in current_users]\n",
    "\n",
    "for i in new_users:\n",
    "    if i.lower() in current_users_lower:\n",
    "        print(f\"Sorry, the username '{i}' is already taken. Please choose a different username.\")\n",
    "    else:\n",
    "        print(f\"The username '{i}' is available.\")"
   ]
  },
  {
   "cell_type": "markdown",
   "metadata": {
    "id": "yKlriswzkdqp"
   },
   "source": [
    "### Task11:\n",
    "Ordinal Numbers: Ordinal numbers indicate their position in a array, such as 1st or 2nd. Most ordinal numbers end in th, except 1, 2, and 3.\n",
    "* Store the numbers 1 through 9 in a array.\n",
    "\n",
    "* Loop through the array.\n",
    "\n",
    "* Use an if-else chain inside the loop to print the proper ordinal ending for each number. Your output should read \"1st 2nd 3rd 4th 5th 6th 7th 8th 9th\", and each result should be on a separate line.\n",
    "\n"
   ]
  },
  {
   "cell_type": "code",
   "execution_count": 46,
   "metadata": {
    "id": "GcJifmTtkdqp"
   },
   "outputs": [
    {
     "name": "stdout",
     "output_type": "stream",
     "text": [
      "1st\n",
      "2nd\n",
      "3rd\n",
      "4th\n",
      "5th\n",
      "6th\n",
      "7th\n",
      "8th\n",
      "9th\n"
     ]
    }
   ],
   "source": [
    "numbers = list(range(1,10))\n",
    "\n",
    "for number in numbers:\n",
    "    if number == 1:\n",
    "        ordinal = \"st\"\n",
    "    elif number == 2:\n",
    "        ordinal = \"nd\"\n",
    "    elif number == 3:\n",
    "        ordinal = \"rd\"\n",
    "    else:\n",
    "        ordinal = \"th\"\n",
    "    \n",
    "    print(f\"{number}{ordinal}\")"
   ]
  },
  {
   "cell_type": "markdown",
   "metadata": {
    "id": "Z-i9D_T9kdqp"
   },
   "source": [
    "### Task12:\n",
    "Animals: Think of at least three different animals that have a common characteristic. Store the names of these animals in a list, and then use a for loop to print out the name of each animal.\n",
    "* Modify your program to print a statement about each animal, such as A dog would make a great pet.\n",
    "* Add a line at the end of your program stating what these animals have in common. You could print a sentence such as Any of these animals would make a great pet!"
   ]
  },
  {
   "cell_type": "code",
   "execution_count": 41,
   "metadata": {
    "id": "M8cyBU3bkdqp"
   },
   "outputs": [
    {
     "name": "stdout",
     "output_type": "stream",
     "text": [
      "Names of the animals: \n",
      "Dog\n",
      "Cat\n",
      "Rabbit\n",
      "\n",
      "A Dog would make a great companion.\n",
      "A Cat can be a good pet.\n",
      "A Rabbit is a cute pet.\n",
      "\n",
      "Any of these animals would make a great pet!\n"
     ]
    }
   ],
   "source": [
    "animals= ['Dog','Cat','Rabbit']\n",
    "\n",
    "print(\"Names of the animals: \")\n",
    "for i in animals:\n",
    "    print(i)\n",
    "for i in animals:\n",
    "    if i == 'Dog':\n",
    "        print(f\"\\nA {i} would make a great companion.\")\n",
    "    elif i == 'Cat':\n",
    "        print(f\"A {i} can be a good pet.\")\n",
    "    elif i == 'Rabbit':\n",
    "        print(f\"A {i} is a cute pet.\")\n",
    "\n",
    "print(\"\\nAny of these animals would make a great pet!\")\n"
   ]
  },
  {
   "cell_type": "markdown",
   "metadata": {
    "id": "hBKGoH_Nkdqp"
   },
   "source": [
    "### Task13:\n",
    "City Names: Write a function called `city_country()` that takes in the name of a city and its country. The function should return a string formatted like this:\n",
    "\n",
    "`\"Lahore, Pakistan\"`<br><br>\n",
    "Call your function with at least three city-country pairs, and print the value that’s returned."
   ]
  },
  {
   "cell_type": "code",
   "execution_count": 30,
   "metadata": {
    "id": "wsMmQqslkdqp"
   },
   "outputs": [
    {
     "name": "stdout",
     "output_type": "stream",
     "text": [
      "Tokyo,Japan\n",
      "Toronto,Canada\n",
      "Moscow,Russia\n"
     ]
    }
   ],
   "source": [
    "def city_country(city,country):\n",
    "    formatted_string= f\"{city},{country}\"\n",
    "    return formatted_string\n",
    "\n",
    "city1= city_country(\"Tokyo\", \"Japan\")\n",
    "city2= city_country(\"Toronto\", \"Canada\")\n",
    "city3= city_country(\"Moscow\" ,\"Russia\")\n",
    "\n",
    "print(city1)\n",
    "print(city2)\n",
    "print(city3)"
   ]
  },
  {
   "cell_type": "markdown",
   "metadata": {
    "id": "2b0keHKFkdqp"
   },
   "source": [
    "### Task14:\n",
    "Write a function called `make_tshirt()` where you can provide `size` and `custome_text`. The function should print a sentence summarizing the size of the shirt and the message printed on it. Call the function."
   ]
  },
  {
   "cell_type": "code",
   "execution_count": 22,
   "metadata": {
    "id": "jK4NRvjIkdqp"
   },
   "outputs": [
    {
     "name": "stdout",
     "output_type": "stream",
     "text": [
      "Creating a Large-sized T-shirt with the message: 'Hello, World!'\n"
     ]
    }
   ],
   "source": [
    "def make_tshirt(size, custom_text):\n",
    "    print(f\"Creating a {size}-sized T-shirt with the message: '{custom_text}'\")\n",
    "\n",
    "make_tshirt('Large', 'Hello, World!')"
   ]
  },
  {
   "cell_type": "markdown",
   "metadata": {
    "id": "0V3zOAyfkdqp"
   },
   "source": [
    "### Task15:\n",
    "Write a function called `describe_city()` that accepts the name of a `city` and its `country`. The function should print a simple sentence, such as `Karachi is in Pakistan`. Give the parameter for the country a default value. Call your function for three different cities, at least one of which is not in the default country."
   ]
  },
  {
   "cell_type": "code",
   "execution_count": 21,
   "metadata": {
    "id": "nm3eU-Wskdqp"
   },
   "outputs": [
    {
     "name": "stdout",
     "output_type": "stream",
     "text": [
      "Karachi is in Pakistan.\n",
      "Lahore is in Pakistan.\n",
      "New York is in United States.\n"
     ]
    }
   ],
   "source": [
    "def describe_city(city, country='Pakistan'):\n",
    "    print(f\"{city} is in {country}.\")\n",
    "describe_city('Karachi')\n",
    "describe_city('Lahore')\n",
    "describe_city('New York', 'United States')"
   ]
  },
  {
   "cell_type": "code",
   "execution_count": 20,
   "metadata": {
    "id": "GOYrKfKvkdqp"
   },
   "outputs": [],
   "source": []
  },
  {
   "cell_type": "markdown",
   "metadata": {
    "id": "BHLnWmFGkdqq"
   },
   "source": [
    "# Theory Section"
   ]
  },
  {
   "cell_type": "markdown",
   "metadata": {
    "id": "vbplZrcgkdqq"
   },
   "source": [
    "# 16. Define functions and function types in python?"
   ]
  },
  {
   "cell_type": "markdown",
   "metadata": {
    "id": "Of3Kfy9Okdqq"
   },
   "source": [
    "#FUNCTIONS:\n",
    "In Python, functions are blocks of code that perform a specific task and can be reused whenever required. They help in organizing code, increasing code readability, and improving code reusability. \n",
    "\n",
    "#TYPES OF FUNCTIONS:\n",
    "There are two types of functions in Python: user-defined functions and built-in functions.\n",
    "#1 User-Defined Functions:\n",
    "\n",
    "*These functions are defined by the user to perform a specific task. \n",
    "*User-defined functions are created by users to perform specific tasks based on their requirements.\n",
    "\n",
    "#2 Built-in Functions:\n",
    "\n",
    "*These functions are pre-defined in Python and are readily available for use without the need for redefining them.\n",
    "*Built-in functions are pre-defined in Python and cover a wide range of functionalities.\n"
   ]
  },
  {
   "cell_type": "markdown",
   "metadata": {
    "id": "iwBdO157kdqq"
   },
   "source": [
    "# 17. Define loop and it types in python?"
   ]
  },
  {
   "cell_type": "markdown",
   "metadata": {
    "id": "Prw6fvh5kdqq"
   },
   "source": [
    "#LOOP:\n",
    "\n",
    "In Python, a loop is a control structure that allows you to repeatedly execute a block of code based on a certain condition. It helps in automating repetitive tasks and iterating over sequences of data.\n",
    "\n",
    "TYPES OF LOOP:\n",
    "Python provides different types of loops:\n",
    "\n",
    "\n",
    "1.FOR LOOP : Loop is used to iterate over a sequence (such as a list, tuple, set, dictionary, or string) or other iterable objects. It executes a block of code for each item in the sequence. \n",
    "\n",
    "2.While Loop: A while loop repeatedly executes a block of code as long as a given condition is true. It is useful when you do not know the number of iterations beforehand.\n",
    "\n",
    "3.Nested Loops: Python allows you to have loops inside other loops, known as nested loops. This is useful when you need to perform repetitive tasks within another loop. You can use a while loop inside a for loop, a for loop inside a while loop, or any combination of nested loops.\n"
   ]
  },
  {
   "cell_type": "markdown",
   "metadata": {
    "id": "1N_KslG8kdqq"
   },
   "source": [
    "# 18. Define Error types and how we can handle run time errors?"
   ]
  },
  {
   "cell_type": "markdown",
   "metadata": {
    "id": "LwMApoYWkdqq"
   },
   "source": [
    "Error types in programming languages, including Python, can be broadly categorized into two main types: \n",
    "syntax errors and runtime errors.\n",
    "\n",
    "1-Syntax Errors: \n",
    "\n",
    "Syntax errors occur during the parsing of the code, indicating that the code violates the syntax rules of the programming language.\n",
    "\n",
    "2-Runtime Errors (Exceptions):\n",
    "\n",
    "Runtime errors, also known as exceptions, occur during the execution of the program. They are caused by unexpected conditions or events that the program encounters while running.\n",
    "\n",
    "To handle runtime errors in Python, you can use exception handling. Exception handling allows you to catch and handle specific types of runtime errors gracefully, preventing the program from crashing. The basic structure of exception handling in Python involves the following keywords:\n",
    "\n",
    "*try: The code block that may raise an exception is placed inside the try block.\n",
    "*except: If an exception occurs within the try block, the code inside the except block is executed. The except block specifies the type of exception it can handle. You can have multiple except blocks to handle different types of exceptions.\n",
    "*else (optional): The else block is executed if no exception occurs in the try block.\n",
    "*finally (optional): The finally block is always executed, regardless of whether an exception occurred or not. It is typically used to release resources or perform cleanup operations."
   ]
  },
  {
   "cell_type": "markdown",
   "metadata": {
    "id": "5u-YAz4mkdqq"
   },
   "source": [
    "# 19. Define four pillars of Object Oriented Programming?"
   ]
  },
  {
   "cell_type": "code",
   "execution_count": null,
   "metadata": {
    "id": "6Ea3NOT4kdqq"
   },
   "outputs": [],
   "source": [
    "The four pillars of Object-Oriented Programming (OOP) are:\n",
    "\n",
    "#1Abstraction:\n",
    "\n",
    "Abstraction refers to the process of hiding implementation details and exposing only the essential features or functionality of an object. \n",
    "    \n",
    "*It allows you to focus on what an object does rather than how it does it. By using abstraction, you can create classes or interfaces that provide a simplified view of complex systems. \n",
    "\n",
    "#2Encapsulation: \n",
    "\n",
    "Encapsulation involves bundling data and methods together within a class, and restricting access to the internal state of an object from outside. It allows you to prevent direct modification of the object's data by providing methods to interact with the data. Encapsulation helps in achieving data security, code maintainability, and reusability. \n",
    "\n",
    "#3Inheritance:\n",
    "\n",
    "Inheritance enables the creation of new classes (derived classes or subclasses) from existing classes (base classes or superclasses).\n",
    "\n",
    "#4Polymorphism: \n",
    "\n",
    "Polymorphism allows objects of different classes to be treated as objects of a common superclass. It enables you to write code that can work with objects of multiple types, providing flexibility and extensibility. \n",
    "\n",
    "\n",
    "\n"
   ]
  },
  {
   "cell_type": "markdown",
   "metadata": {
    "id": "OmiTc2Ipkdqq"
   },
   "source": [
    "# 20. You can write about how you can use python in professional life. If you used python in your Office to solve any real-world probem."
   ]
  },
  {
   "cell_type": "markdown",
   "metadata": {
    "id": "fGle3ja2kdqq"
   },
   "source": [
    "As an AI language model, I don't have personal experiences or a physical office to use Python in a professional setting. However, I can provide you with examples of how Python is commonly used in various industries and real-world scenarios.\n",
    "\n",
    "Python is a versatile programming language that has gained significant popularity due to its simplicity, readability, and extensive range of libraries and frameworks. \n",
    "\n",
    "#1 Networking and System Administration:\n",
    "\n",
    "Python is used in network programming and system administration tasks. It offers libraries like Paramiko and Netmiko, which enable professionals to automate network device configuration, management, and monitoring.\n",
    "\n",
    "#2 Data Analysis and Visualization: \n",
    "\n",
    "Python, along with libraries like Pandas, NumPy, and Matplotlib, is widely used for data analysis and visualization. It allows professionals to efficiently process and analyze large datasets, perform statistical analysis, and create visualizations to gain insights from the data.\n",
    "\n",
    "#3 Web Development: \n",
    "\n",
    "Python offers frameworks like Django and Flask, which enable the development of robust and scalable web applications. These frameworks provide tools and libraries to handle various web development tasks, such as routing, database management, and user authentication.\n",
    "\n",
    "These are just a few examples of how Python can be used in a professional setting. Python's versatility, readability, and vast ecosystem of libraries make it a valuable tool for solving real-world problems across different industries.\n",
    "\n",
    "Remember, the specific use of Python in an office or professional setting may vary depending on the industry, organization, and specific requirements.\n",
    "\n",
    "\n",
    "\n",
    "\n",
    "\n"
   ]
  }
 ],
 "metadata": {
  "colab": {
   "provenance": []
  },
  "kernelspec": {
   "display_name": "Python 3 (ipykernel)",
   "language": "python",
   "name": "python3"
  },
  "language_info": {
   "codemirror_mode": {
    "name": "ipython",
    "version": 3
   },
   "file_extension": ".py",
   "mimetype": "text/x-python",
   "name": "python",
   "nbconvert_exporter": "python",
   "pygments_lexer": "ipython3",
   "version": "3.11.3"
  }
 },
 "nbformat": 4,
 "nbformat_minor": 1
}
