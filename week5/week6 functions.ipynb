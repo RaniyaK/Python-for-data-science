{
 "cells": [
  {
   "cell_type": "markdown",
   "metadata": {},
   "source": [
    "# functions\n",
    "* pre defined fun\n",
    "    *provided by community\n",
    "*user defined\n",
    "    * custome func created by you(programmer)\n",
    "*common properties \n",
    "   *return\n",
    "   *non-return\n",
    "   *required parameters\n",
    "   *optional parameters\n",
    "   *default functions(nin required)\n",
    "   *positional argument\n",
    "   *key value functions\n",
    "   *pass ulimited optional argument\n",
    "   *pass ulimited key=value argument\n",
    "Note:\n",
    "1. function deceleration/signature = def abc(param1,param2...)\n",
    "2. function body\n",
    "3. func call\n",
    "\n",
    "'''\n",
    "def custom_name(parm1,parm2,...):\n",
    "     statement1\n",
    "     statement2\n",
    "     statement3\n",
    "'''"
   ]
  },
  {
   "cell_type": "markdown",
   "metadata": {},
   "source": [
    "Reserved keywords"
   ]
  },
  {
   "cell_type": "code",
   "execution_count": 5,
   "metadata": {},
   "outputs": [
    {
     "data": {
      "text/html": [
       "<div>\n",
       "<style scoped>\n",
       "    .dataframe tbody tr th:only-of-type {\n",
       "        vertical-align: middle;\n",
       "    }\n",
       "\n",
       "    .dataframe tbody tr th {\n",
       "        vertical-align: top;\n",
       "    }\n",
       "\n",
       "    .dataframe thead th {\n",
       "        text-align: right;\n",
       "    }\n",
       "</style>\n",
       "<table border=\"1\" class=\"dataframe\">\n",
       "  <thead>\n",
       "    <tr style=\"text-align: right;\">\n",
       "      <th></th>\n",
       "      <th>Keyword</th>\n",
       "      <th>Description</th>\n",
       "    </tr>\n",
       "  </thead>\n",
       "  <tbody>\n",
       "    <tr>\n",
       "      <th>0</th>\n",
       "      <td>and</td>\n",
       "      <td>A logical operator</td>\n",
       "    </tr>\n",
       "    <tr>\n",
       "      <th>1</th>\n",
       "      <td>as</td>\n",
       "      <td>To create an alias</td>\n",
       "    </tr>\n",
       "    <tr>\n",
       "      <th>2</th>\n",
       "      <td>assert</td>\n",
       "      <td>For debugging</td>\n",
       "    </tr>\n",
       "    <tr>\n",
       "      <th>3</th>\n",
       "      <td>break</td>\n",
       "      <td>To break out of a loop</td>\n",
       "    </tr>\n",
       "    <tr>\n",
       "      <th>4</th>\n",
       "      <td>class</td>\n",
       "      <td>To define a class</td>\n",
       "    </tr>\n",
       "    <tr>\n",
       "      <th>5</th>\n",
       "      <td>continue</td>\n",
       "      <td>To continue to the next iteration of a loop</td>\n",
       "    </tr>\n",
       "    <tr>\n",
       "      <th>6</th>\n",
       "      <td>def</td>\n",
       "      <td>To define a function</td>\n",
       "    </tr>\n",
       "    <tr>\n",
       "      <th>7</th>\n",
       "      <td>del</td>\n",
       "      <td>To delete an object</td>\n",
       "    </tr>\n",
       "    <tr>\n",
       "      <th>8</th>\n",
       "      <td>elif</td>\n",
       "      <td>Used in conditional statements, same as else if</td>\n",
       "    </tr>\n",
       "    <tr>\n",
       "      <th>9</th>\n",
       "      <td>else</td>\n",
       "      <td>Used in conditional statements</td>\n",
       "    </tr>\n",
       "    <tr>\n",
       "      <th>10</th>\n",
       "      <td>except</td>\n",
       "      <td>Used with exceptions, what to do when an excep...</td>\n",
       "    </tr>\n",
       "    <tr>\n",
       "      <th>11</th>\n",
       "      <td>False</td>\n",
       "      <td>Boolean value, result of comparison operations</td>\n",
       "    </tr>\n",
       "    <tr>\n",
       "      <th>12</th>\n",
       "      <td>finally</td>\n",
       "      <td>Used with exceptions, a block of code that wil...</td>\n",
       "    </tr>\n",
       "    <tr>\n",
       "      <th>13</th>\n",
       "      <td>for</td>\n",
       "      <td>To create a for loop</td>\n",
       "    </tr>\n",
       "    <tr>\n",
       "      <th>14</th>\n",
       "      <td>from</td>\n",
       "      <td>To import specific parts of a module</td>\n",
       "    </tr>\n",
       "    <tr>\n",
       "      <th>15</th>\n",
       "      <td>global</td>\n",
       "      <td>To declare a global variable</td>\n",
       "    </tr>\n",
       "    <tr>\n",
       "      <th>16</th>\n",
       "      <td>if</td>\n",
       "      <td>To make a conditional statement</td>\n",
       "    </tr>\n",
       "    <tr>\n",
       "      <th>17</th>\n",
       "      <td>import</td>\n",
       "      <td>To import a module</td>\n",
       "    </tr>\n",
       "    <tr>\n",
       "      <th>18</th>\n",
       "      <td>in</td>\n",
       "      <td>To check if a value is present in a list, tupl...</td>\n",
       "    </tr>\n",
       "    <tr>\n",
       "      <th>19</th>\n",
       "      <td>is</td>\n",
       "      <td>To test if two variables are equal</td>\n",
       "    </tr>\n",
       "    <tr>\n",
       "      <th>20</th>\n",
       "      <td>lambda</td>\n",
       "      <td>To create an anonymous function</td>\n",
       "    </tr>\n",
       "    <tr>\n",
       "      <th>21</th>\n",
       "      <td>None</td>\n",
       "      <td>Represents a null value</td>\n",
       "    </tr>\n",
       "    <tr>\n",
       "      <th>22</th>\n",
       "      <td>nonlocal</td>\n",
       "      <td>To declare a non-local variable</td>\n",
       "    </tr>\n",
       "    <tr>\n",
       "      <th>23</th>\n",
       "      <td>not</td>\n",
       "      <td>A logical operator</td>\n",
       "    </tr>\n",
       "    <tr>\n",
       "      <th>24</th>\n",
       "      <td>or</td>\n",
       "      <td>A logical operator</td>\n",
       "    </tr>\n",
       "    <tr>\n",
       "      <th>25</th>\n",
       "      <td>pass</td>\n",
       "      <td>A null statement, a statement that will do not...</td>\n",
       "    </tr>\n",
       "    <tr>\n",
       "      <th>26</th>\n",
       "      <td>raise</td>\n",
       "      <td>To raise an exception</td>\n",
       "    </tr>\n",
       "    <tr>\n",
       "      <th>27</th>\n",
       "      <td>return</td>\n",
       "      <td>To exit a function and return a value</td>\n",
       "    </tr>\n",
       "    <tr>\n",
       "      <th>28</th>\n",
       "      <td>True</td>\n",
       "      <td>Boolean value, result of comparison operations</td>\n",
       "    </tr>\n",
       "    <tr>\n",
       "      <th>29</th>\n",
       "      <td>try</td>\n",
       "      <td>To make a try...except statement</td>\n",
       "    </tr>\n",
       "    <tr>\n",
       "      <th>30</th>\n",
       "      <td>while</td>\n",
       "      <td>To create a while loop</td>\n",
       "    </tr>\n",
       "    <tr>\n",
       "      <th>31</th>\n",
       "      <td>with</td>\n",
       "      <td>Used to simplify exception handling</td>\n",
       "    </tr>\n",
       "    <tr>\n",
       "      <th>32</th>\n",
       "      <td>yield</td>\n",
       "      <td>To end a function, returns a generator</td>\n",
       "    </tr>\n",
       "  </tbody>\n",
       "</table>\n",
       "</div>"
      ],
      "text/plain": [
       "     Keyword                                        Description\n",
       "0        and                                 A logical operator\n",
       "1         as                                 To create an alias\n",
       "2     assert                                      For debugging\n",
       "3      break                             To break out of a loop\n",
       "4      class                                  To define a class\n",
       "5   continue        To continue to the next iteration of a loop\n",
       "6        def                               To define a function\n",
       "7        del                                To delete an object\n",
       "8       elif    Used in conditional statements, same as else if\n",
       "9       else                     Used in conditional statements\n",
       "10    except  Used with exceptions, what to do when an excep...\n",
       "11     False     Boolean value, result of comparison operations\n",
       "12   finally  Used with exceptions, a block of code that wil...\n",
       "13       for                               To create a for loop\n",
       "14      from               To import specific parts of a module\n",
       "15    global                       To declare a global variable\n",
       "16        if                    To make a conditional statement\n",
       "17    import                                 To import a module\n",
       "18        in  To check if a value is present in a list, tupl...\n",
       "19        is                 To test if two variables are equal\n",
       "20    lambda                    To create an anonymous function\n",
       "21      None                            Represents a null value\n",
       "22  nonlocal                    To declare a non-local variable\n",
       "23       not                                 A logical operator\n",
       "24        or                                 A logical operator\n",
       "25      pass  A null statement, a statement that will do not...\n",
       "26     raise                              To raise an exception\n",
       "27    return              To exit a function and return a value\n",
       "28      True     Boolean value, result of comparison operations\n",
       "29       try                   To make a try...except statement\n",
       "30     while                             To create a while loop\n",
       "31      with                Used to simplify exception handling\n",
       "32     yield             To end a function, returns a generator"
      ]
     },
     "execution_count": 5,
     "metadata": {},
     "output_type": "execute_result"
    }
   ],
   "source": [
    "import pandas as pd\n",
    "df = pd.read_html(\"https://www.w3schools.com/python/python_ref_keywords.asp\")\n",
    "df[0]"
   ]
  },
  {
   "cell_type": "markdown",
   "metadata": {},
   "source": [
    "# Non return Function"
   ]
  },
  {
   "cell_type": "code",
   "execution_count": 10,
   "metadata": {},
   "outputs": [],
   "source": [
    "def introduction(): #signature/function decleration\n",
    "    print(\"Ned University\") #body start\n",
    "    print(\"PGD Data science - Generative AI program\")\n",
    "    print(\"batch5\")\n",
    "    print(\"saturday and sunday\") # body end"
   ]
  },
  {
   "cell_type": "code",
   "execution_count": 11,
   "metadata": {},
   "outputs": [
    {
     "name": "stdout",
     "output_type": "stream",
     "text": [
      "Ned University\n",
      "PGD Data science - Generative AI program\n",
      "batch5\n",
      "saturday and sunday\n"
     ]
    }
   ],
   "source": [
    "introduction() #function calling"
   ]
  },
  {
   "cell_type": "markdown",
   "metadata": {},
   "source": [
    "Return function"
   ]
  },
  {
   "cell_type": "code",
   "execution_count": 17,
   "metadata": {},
   "outputs": [
    {
     "name": "stdout",
     "output_type": "stream",
     "text": [
      "Pakistan Zindabad\n"
     ]
    }
   ],
   "source": [
    "print(abc)"
   ]
  },
  {
   "cell_type": "code",
   "execution_count": 16,
   "metadata": {},
   "outputs": [
    {
     "name": "stdout",
     "output_type": "stream",
     "text": [
      "Ned University\n",
      "PGD Data science - Generative AI program\n",
      "batch5\n",
      "saturday and sunday\n"
     ]
    }
   ],
   "source": [
    "def introduction(): #signature/function decleration\n",
    "    print(\"Ned University\") #body start\n",
    "    print(\"PGD Data science - Generative AI program\")\n",
    "    print(\"batch5\")\n",
    "    print(\"saturday and sunday\") # body end\n",
    "\n",
    "    return  \"Pakistan Zindabad\"\n",
    "abc = introduction()"
   ]
  },
  {
   "cell_type": "code",
   "execution_count": 19,
   "metadata": {},
   "outputs": [],
   "source": [
    "def new ():\n",
    "    return \"Pakistan Zindabad\"\n",
    "abc = new()"
   ]
  },
  {
   "cell_type": "code",
   "execution_count": 20,
   "metadata": {},
   "outputs": [
    {
     "name": "stdout",
     "output_type": "stream",
     "text": [
      "Pakistan Zindabad\n"
     ]
    }
   ],
   "source": [
    "print(abc)"
   ]
  },
  {
   "cell_type": "markdown",
   "metadata": {},
   "source": [
    "#Required parameter"
   ]
  },
  {
   "cell_type": "code",
   "execution_count": 22,
   "metadata": {},
   "outputs": [
    {
     "name": "stdout",
     "output_type": "stream",
     "text": [
      "15\n",
      "27\n"
     ]
    }
   ],
   "source": [
    "def add_two_numbers(num1,num2) :\n",
    "    return number1: {num1 }+ num2 and number2: {num2}')\n",
    "print(add_two_numbers(7,8))\n",
    "print(add_two_numbers(20,7))"
   ]
  },
  {
   "cell_type": "code",
   "execution_count": 42,
   "metadata": {},
   "outputs": [
    {
     "ename": "TypeError",
     "evalue": "add_two_numbers() missing 1 required positional argument: 'y'",
     "output_type": "error",
     "traceback": [
      "\u001b[1;31m---------------------------------------------------------------------------\u001b[0m",
      "\u001b[1;31mTypeError\u001b[0m                                 Traceback (most recent call last)",
      "Cell \u001b[1;32mIn[42], line 1\u001b[0m\n\u001b[1;32m----> 1\u001b[0m add_two_numbers(\u001b[39m7\u001b[39m)\n",
      "\u001b[1;31mTypeError\u001b[0m: add_two_numbers() missing 1 required positional argument: 'y'"
     ]
    }
   ],
   "source": [
    "add_two_numbers(7)"
   ]
  },
  {
   "cell_type": "code",
   "execution_count": 43,
   "metadata": {},
   "outputs": [
    {
     "ename": "TypeError",
     "evalue": "add_two_numbers() takes 2 positional arguments but 3 were given",
     "output_type": "error",
     "traceback": [
      "\u001b[1;31m---------------------------------------------------------------------------\u001b[0m",
      "\u001b[1;31mTypeError\u001b[0m                                 Traceback (most recent call last)",
      "Cell \u001b[1;32mIn[43], line 1\u001b[0m\n\u001b[1;32m----> 1\u001b[0m add_two_numbers(\u001b[39m7\u001b[39m,\u001b[39m8\u001b[39m,\u001b[39m9\u001b[39m)\n",
      "\u001b[1;31mTypeError\u001b[0m: add_two_numbers() takes 2 positional arguments but 3 were given"
     ]
    }
   ],
   "source": [
    "add_two_numbers(7,8,9)"
   ]
  },
  {
   "cell_type": "code",
   "execution_count": 44,
   "metadata": {},
   "outputs": [
    {
     "name": "stdout",
     "output_type": "stream",
     "text": [
      "numbe1: 7 and number2: 8\n",
      "15\n",
      "numbe1: 20 and number2: 7\n",
      "27\n"
     ]
    }
   ],
   "source": [
    "def add_two_numbers(num1,num2):#function signature\n",
    "    print(f'numbe1: {num1} and number2: {num2}')\n",
    "    return num1 + num2\n",
    "\n",
    "print(add_two_numbers(7,8))\n",
    "print(add_two_numbers(20,7))\n",
    "    "
   ]
  },
  {
   "cell_type": "markdown",
   "metadata": {},
   "source": [
    "#keyword arguments"
   ]
  },
  {
   "cell_type": "code",
   "execution_count": 3,
   "metadata": {},
   "outputs": [
    {
     "name": "stdout",
     "output_type": "stream",
     "text": [
      "7\n"
     ]
    }
   ],
   "source": [
    "def abc(x,y,z=0):\n",
    "    return x+y+z\n",
    "print(abc(1,2))\n",
    "print(abc(1,2,4))"
   ]
  },
  {
   "cell_type": "code",
   "execution_count": 52,
   "metadata": {},
   "outputs": [
    {
     "name": "stdout",
     "output_type": "stream",
     "text": [
      "a b c\n",
      "a b c\n"
     ]
    }
   ],
   "source": [
    "l = ['a','b','c']\n",
    "print(l[0],l[1],l[2])\n",
    "print(*l)"
   ]
  },
  {
   "cell_type": "code",
   "execution_count": 51,
   "metadata": {},
   "outputs": [
    {
     "name": "stdout",
     "output_type": "stream",
     "text": [
      "3\n",
      "6\n",
      "7\n",
      "1\n",
      "2\n"
     ]
    }
   ],
   "source": [
    "def abc(x,y=0,z=0):\n",
    "    return x+y+z\n",
    "print(abc(1,2))\n",
    "print(abc(1,2,3)) # postional\n",
    "print(abc(z=2,x=2,y=3)) # key word agrs\n",
    "print(abc(1))\n",
    "print(abc(2))"
   ]
  },
  {
   "cell_type": "code",
   "execution_count": 57,
   "metadata": {},
   "outputs": [
    {
     "name": "stdout",
     "output_type": "stream",
     "text": [
      "a b c\n",
      "a b c\n"
     ]
    }
   ],
   "source": [
    "l = ('a',\"b\",'c')\n",
    "print(l[0], l[1], l[2])\n",
    "print(*l)"
   ]
  },
  {
   "cell_type": "code",
   "execution_count": 58,
   "metadata": {},
   "outputs": [
    {
     "name": "stdout",
     "output_type": "stream",
     "text": [
      "a b a\n"
     ]
    }
   ],
   "source": [
    "l = [\"a\",'b','c']\n",
    "x = l[0]\n",
    "y = l[1]\n",
    "z = l[2]\n",
    "\n",
    "print(x,y,x)\n"
   ]
  },
  {
   "cell_type": "code",
   "execution_count": 59,
   "metadata": {},
   "outputs": [
    {
     "name": "stdout",
     "output_type": "stream",
     "text": [
      "a b a\n"
     ]
    }
   ],
   "source": [
    "l = [\"a\",'b','c']\n",
    "x, y, z = l[0], l[1] ,l[2]\n",
    "\n",
    "print(x,y,x)"
   ]
  },
  {
   "cell_type": "code",
   "execution_count": 60,
   "metadata": {},
   "outputs": [
    {
     "name": "stdout",
     "output_type": "stream",
     "text": [
      "a b a\n"
     ]
    }
   ],
   "source": [
    "l = [\"a\",'b','c']\n",
    "x, y, z = l[0], l[1] ,l[2]\n",
    "\n",
    "print(x,y,x)"
   ]
  },
  {
   "cell_type": "code",
   "execution_count": 61,
   "metadata": {},
   "outputs": [
    {
     "name": "stdout",
     "output_type": "stream",
     "text": [
      "27\n"
     ]
    }
   ],
   "source": [
    "print(sum([1,7,9,9,1]))"
   ]
  },
  {
   "cell_type": "code",
   "execution_count": 13,
   "metadata": {},
   "outputs": [
    {
     "name": "stdout",
     "output_type": "stream",
     "text": [
      "7 20 30\n",
      "57\n",
      "57\n"
     ]
    }
   ],
   "source": [
    "def abc(x,y=0,z=0):\n",
    "    return x+y+z\n",
    "d = {\"x\":7,\n",
    "     \"y\":20,\n",
    "     \"z\":30}\n",
    "print(d['x'],d['y'],d['z'])\n",
    "print(abc(d['x'],d['y'],d['z']))\n",
    "\n",
    "print(abc(**d))"
   ]
  },
  {
   "cell_type": "markdown",
   "metadata": {},
   "source": [
    "#unlimited argument function"
   ]
  },
  {
   "cell_type": "code",
   "execution_count": 15,
   "metadata": {},
   "outputs": [
    {
     "name": "stdout",
     "output_type": "stream",
     "text": [
      "21\n"
     ]
    }
   ],
   "source": [
    "def my_sum(*nums):\n",
    "    total = 0\n",
    "    for n in nums:\n",
    "        total += n\n",
    "    return total\n",
    "\n",
    "print(my_sum(1,2,3,4,5,6))"
   ]
  },
  {
   "cell_type": "code",
   "execution_count": 20,
   "metadata": {},
   "outputs": [
    {
     "data": {
      "text/plain": [
       "[('x', 20), ('y', 30), ('z', 22)]"
      ]
     },
     "execution_count": 20,
     "metadata": {},
     "output_type": "execute_result"
    }
   ],
   "source": [
    "def abc(**data):\n",
    "    \n",
    "    return list(data.items())\n",
    "\n",
    "\n",
    "abc(x=20, y=30, z=22)"
   ]
  },
  {
   "cell_type": "markdown",
   "metadata": {},
   "source": [
    "# Advance\n",
    "*require\n",
    "*positional unlimite args\n",
    "*key=word"
   ]
  },
  {
   "cell_type": "code",
   "execution_count": 27,
   "metadata": {},
   "outputs": [
    {
     "name": "stdout",
     "output_type": "stream",
     "text": [
      "2 7\n",
      "a 2 6 7 30 b\n",
      "{'e': 20}\n"
     ]
    }
   ],
   "source": [
    "def advance(x, y, *nums, **data):\n",
    "    print(x,y)\n",
    "    print(*nums)\n",
    "    print(data)\n",
    "    \n",
    "advance(2,7,'a',2,6,7,30,'b',e=20)"
   ]
  },
  {
   "cell_type": "markdown",
   "metadata": {},
   "source": [
    "#Lamda Function\n",
    "*one line fun\n",
    "*without name\n",
    "*it did not use before or it will not be use in future\n",
    "\n",
    "syntax:\n",
    "'''\n",
    "def add_two_numbers(x,y):\n",
    "    return x + y\n",
    "'''\n",
    "\n",
    "lamda\n",
    "'''\n",
    "lamda x,y : x + y\n",
    "'''"
   ]
  },
  {
   "cell_type": "code",
   "execution_count": 29,
   "metadata": {},
   "outputs": [
    {
     "data": {
      "text/plain": [
       "3"
      ]
     },
     "execution_count": 29,
     "metadata": {},
     "output_type": "execute_result"
    }
   ],
   "source": [
    "def add_two_numbers(x,y):\n",
    "    return x + y\n",
    "add_two_numbers(1,2)\n"
   ]
  },
  {
   "cell_type": "code",
   "execution_count": 34,
   "metadata": {},
   "outputs": [
    {
     "name": "stdout",
     "output_type": "stream",
     "text": [
      "9\n"
     ]
    }
   ],
   "source": [
    "aaa = lambda x,y : x + y\n",
    "print(aaa(2,7))"
   ]
  },
  {
   "cell_type": "code",
   "execution_count": 38,
   "metadata": {},
   "outputs": [
    {
     "name": "stdout",
     "output_type": "stream",
     "text": [
      "[[3, 'y', 4], [1, 'z', 'e'], [2, 'z', 'G']]\n"
     ]
    }
   ],
   "source": [
    "data = [[1, 'z',\"e\"],\n",
    "       [3,\"y\",4],\n",
    "       [2, \"z\", \"G\"]]\n",
    "\n",
    "print(sorted(data, key=lambda x:x[1]))"
   ]
  },
  {
   "cell_type": "markdown",
   "metadata": {},
   "source": [
    "#Generator function"
   ]
  },
  {
   "cell_type": "code",
   "execution_count": 41,
   "metadata": {},
   "outputs": [
    {
     "name": "stdout",
     "output_type": "stream",
     "text": [
      "1\n",
      "2\n",
      "3\n"
     ]
    }
   ],
   "source": [
    "def my_range(start,end,step=1):\n",
    "    for i in range(start,end+1, step):\n",
    "        yield i\n",
    "a = my_range(1,11)\n",
    "print(next(a))\n",
    "print(next(a))\n",
    "print(next(a))\n",
    "\n",
    "\n"
   ]
  },
  {
   "cell_type": "code",
   "execution_count": 62,
   "metadata": {},
   "outputs": [
    {
     "name": "stdout",
     "output_type": "stream",
     "text": [
      "The factorial of 5 is 120\n"
     ]
    }
   ],
   "source": [
    "def factorial(n):\n",
    "    if n == 0 or n == 1:\n",
    "        return 1\n",
    "    else:\n",
    "        return n * factorial(n - 1)\n",
    "\n",
    "# Test the function\n",
    "number = 5\n",
    "result = factorial(number)\n",
    "print(f\"The factorial of {number} is {result}\")"
   ]
  }
 ],
 "metadata": {
  "kernelspec": {
   "display_name": "base",
   "language": "python",
   "name": "python3"
  },
  "language_info": {
   "codemirror_mode": {
    "name": "ipython",
    "version": 3
   },
   "file_extension": ".py",
   "mimetype": "text/x-python",
   "name": "python",
   "nbconvert_exporter": "python",
   "pygments_lexer": "ipython3",
   "version": "3.11.3"
  },
  "orig_nbformat": 4
 },
 "nbformat": 4,
 "nbformat_minor": 2
}
