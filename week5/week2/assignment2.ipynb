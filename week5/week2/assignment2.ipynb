{
 "cells": [
  {
   "cell_type": "markdown",
   "metadata": {},
   "source": [
    "**Python String Concatenation and Formatting Assignments**"
   ]
  },
  {
   "cell_type": "markdown",
   "metadata": {},
   "source": [
    "**Assignment 1: String Concatenation and Formatting**"
   ]
  },
  {
   "cell_type": "code",
   "execution_count": 6,
   "metadata": {},
   "outputs": [
    {
     "name": "stdout",
     "output_type": "stream",
     "text": [
      "My name is Raniya khan, I am 23 years old, and I live in Pakistan.\n"
     ]
    }
   ],
   "source": [
    "name = \"Raniya khan\"\n",
    "age = 23\n",
    "country = \"Pakistan\"\n",
    "sentence = \"My name is {}, I am {} years old, and I live in {}.\".format(name, age, country)\n",
    "print(sentence)\n"
   ]
  },
  {
   "cell_type": "markdown",
   "metadata": {},
   "source": [
    "**Assignment 2: String Formatting using `.format()`"
   ]
  },
  {
   "cell_type": "code",
   "execution_count": 1,
   "metadata": {},
   "outputs": [
    {
     "name": "stdout",
     "output_type": "stream",
     "text": [
      "I bought 1 AC(s) at 50000 each, for a total of $50000.00.\n"
     ]
    }
   ],
   "source": [
    "item = \"AC\"\n",
    "price = 50000\n",
    "quantity = 1\n",
    "total_cost = price * quantity\n",
    "sale_invoice = \"I bought {} {}(s) at {} each, for a total of ${:.2f}.\".format(quantity, item, price, total_cost)\n",
    "\n",
    "print(sale_invoice)\n"
   ]
  },
  {
   "cell_type": "markdown",
   "metadata": {},
   "source": [
    "**Assignment 3: String Interpolation using `f''"
   ]
  },
  {
   "cell_type": "code",
   "execution_count": null,
   "metadata": {},
   "outputs": [],
   "source": [
    "\n",
    "city = \"Islamabad\"\n",
    "temperature = 14.5\n",
    "weather_report= f\"The temperature in {city} is {temperature}°C.\"\n",
    "print(weather_report)"
   ]
  },
  {
   "cell_type": "markdown",
   "metadata": {},
   "source": [
    "**Assignment 4: String Formatting using `%()"
   ]
  },
  {
   "cell_type": "code",
   "execution_count": 2,
   "metadata": {},
   "outputs": [
    {
     "name": "stdout",
     "output_type": "stream",
     "text": [
      "My name is Raniya khan. I am 23 years old.\n"
     ]
    }
   ],
   "source": [
    "\n",
    "first_name = \"Raniya\"\n",
    "last_name = \"khan\"\n",
    "birth_year = 2000\n",
    "current_year = 2023\n",
    "age = current_year - birth_year\n",
    "introduction = \"My name is %(fn)s %(ln)s. I am %(age)d years old.\" % {\"fn\": first_name, \"ln\": last_name, \"age\": age}\n",
    "print(introduction)\n",
    "\n",
    "\n"
   ]
  },
  {
   "cell_type": "markdown",
   "metadata": {},
   "source": [
    "**Assignment 5: Combining Formatting Methods**"
   ]
  },
  {
   "cell_type": "code",
   "execution_count": 3,
   "metadata": {},
   "outputs": [
    {
     "name": "stdout",
     "output_type": "stream",
     "text": [
      "Product: watch\n",
      "Original price: $5000.00\n",
      "discount:10%n discounted price: $4500.00\n"
     ]
    }
   ],
   "source": [
    "\n",
    "product = \"watch\"\n",
    "discount = 10\n",
    "original_price = 5000\n",
    "discounted_price = original_price * (1 - discount / 100)\n",
    "sale = \"Product: {}\\nOriginal price: ${:.2f}\\ndiscount:{}%n discounted price: ${:.2f}\".format(product, original_price, discount, discounted_price)\n",
    "\n",
    "print(sale)"
   ]
  }
 ],
 "metadata": {
  "kernelspec": {
   "display_name": "base",
   "language": "python",
   "name": "python3"
  },
  "language_info": {
   "codemirror_mode": {
    "name": "ipython",
    "version": 3
   },
   "file_extension": ".py",
   "mimetype": "text/x-python",
   "name": "python",
   "nbconvert_exporter": "python",
   "pygments_lexer": "ipython3",
   "version": "3.11.3"
  },
  "orig_nbformat": 4
 },
 "nbformat": 4,
 "nbformat_minor": 2
}
