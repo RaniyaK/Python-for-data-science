{
 "cells": [
  {
   "cell_type": "markdown",
   "metadata": {},
   "source": [
    "Absolute path\n",
    "\n",
    "## Relative path\n",
    "* './' current location\n",
    "* './xyz/aa/xyz.txt\n"
   ]
  }
 ],
 "metadata": {
  "language_info": {
   "name": "python"
  },
  "orig_nbformat": 4
 },
 "nbformat": 4,
 "nbformat_minor": 2
}
