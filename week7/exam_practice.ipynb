{
 "cells": [
  {
   "cell_type": "code",
   "execution_count": 13,
   "metadata": {},
   "outputs": [
    {
     "name": "stdout",
     "output_type": "stream",
     "text": [
      "Hello world!\n"
     ]
    }
   ],
   "source": [
    "message = \"Hello world!\"\n",
    "print(message)"
   ]
  },
  {
   "cell_type": "code",
   "execution_count": 14,
   "metadata": {},
   "outputs": [
    {
     "data": {
      "text/plain": [
       "'world!'"
      ]
     },
     "execution_count": 14,
     "metadata": {},
     "output_type": "execute_result"
    }
   ],
   "source": [
    "message[0:5]\n",
    "message[2:10]\n",
    "message[6:12]\n"
   ]
  },
  {
   "cell_type": "markdown",
   "metadata": {},
   "source": [
    "#striding in string"
   ]
  },
  {
   "cell_type": "code",
   "execution_count": 17,
   "metadata": {},
   "outputs": [
    {
     "data": {
      "text/plain": [
       "'Hlo'"
      ]
     },
     "execution_count": 17,
     "metadata": {},
     "output_type": "execute_result"
    }
   ],
   "source": [
    "message[::2]\n",
    "message[0:6:2]"
   ]
  },
  {
   "cell_type": "markdown",
   "metadata": {},
   "source": [
    "#String operations:"
   ]
  },
  {
   "cell_type": "code",
   "execution_count": 35,
   "metadata": {},
   "outputs": [
    {
     "name": "stdout",
     "output_type": "stream",
     "text": [
      "Before uppercase:  hello python!\n",
      "After uppercase:  HELLO PYTHON!\n",
      "Again lowercase:  hello python!\n",
      "The first element of the string is uppercase:  Hello Python!\n"
     ]
    },
    {
     "data": {
      "text/plain": [
       "'hello python!'"
      ]
     },
     "execution_count": 35,
     "metadata": {},
     "output_type": "execute_result"
    }
   ],
   "source": [
    "message = 'hello python!'\n",
    "print('Before uppercase: ' ,message )\n",
    "# convert uppercase the elements in a string\n",
    "message_upper = message.upper()\n",
    "print('After uppercase: ', message_upper)\n",
    "# convert lowercase the elements in a string\n",
    "message_lower = message.lower()\n",
    "print('Again lowercase: ', message_lower)\n",
    "# convert first letter of string to uppercase\n",
    "message_title = message.title()\n",
    "print('The first element of the string is uppercase: ', message_title)\n",
    "\n",
    "message.replace(\"hello\",\"raniya\")\n",
    "\n",
    "message.lower()"
   ]
  },
  {
   "cell_type": "code",
   "execution_count": 31,
   "metadata": {},
   "outputs": [
    {
     "data": {
      "text/plain": [
       "0"
      ]
     },
     "execution_count": 31,
     "metadata": {},
     "output_type": "execute_result"
    }
   ],
   "source": [
    "message.find(\"hello\")\n"
   ]
  },
  {
   "cell_type": "markdown",
   "metadata": {},
   "source": [
    "\n",
    "Certainly! Here are some assignment questions related to using the .format() method in Python, along with example code solutions:\n",
    "\n",
    "Question 1: Basic String Formatting\n",
    "Write a Python program that takes a user's name and age as input and prints a formatted message like \"Hello, [name]! You are [age] years old.\""
   ]
  },
  {
   "cell_type": "code",
   "execution_count": 39,
   "metadata": {},
   "outputs": [
    {
     "name": "stdout",
     "output_type": "stream",
     "text": [
      " Hello,raniya dareer! you are 23 years old \n"
     ]
    }
   ],
   "source": [
    "name=input(\"Enter a users name\")\n",
    "age=input(\"Enter a user age\")\n",
    "formatted_string=\" Hello,{}! you are {} years old \" .format(name,age)\n",
    "print(formatted_string)"
   ]
  },
  {
   "cell_type": "markdown",
   "metadata": {},
   "source": [
    "Question 2: Temperature Conversion\n",
    "Write a Python program that converts a temperature in Celsius to Fahrenheit and prints a formatted output like \"X degrees Celsius is equivalent to Y degrees Fahrenheit.\""
   ]
  },
  {
   "cell_type": "code",
   "execution_count": 47,
   "metadata": {},
   "outputs": [
    {
     "name": "stdout",
     "output_type": "stream",
     "text": [
      "23.6 degrees Celsius is equivalent to 74.48 degrees Fahrenheit.\n"
     ]
    }
   ],
   "source": [
    "celsius = float(input(\"Enter temperature in Celsius: \"))\n",
    "fahrenheit = (celsius * 9/5) + 32\n",
    "formatted_output = \"{} degrees Celsius is equivalent to {} degrees Fahrenheit.\".format(celsius, fahrenheit)\n",
    "print(formatted_output)\n"
   ]
  },
  {
   "cell_type": "markdown",
   "metadata": {},
   "source": [
    "Question 3: Currency Conversion\n",
    "Write a Python program that takes an amount in one currency and its conversion rate to another currency. Format and display the conversion result in a user-friendly message."
   ]
  },
  {
   "cell_type": "code",
   "execution_count": null,
   "metadata": {},
   "outputs": [
    {
     "ename": "NameError",
     "evalue": "name 'converted_amount' is not defined",
     "output_type": "error",
     "traceback": [
      "\u001b[1;31m---------------------------------------------------------------------------\u001b[0m",
      "\u001b[1;31mNameError\u001b[0m                                 Traceback (most recent call last)",
      "Cell \u001b[1;32mIn[52], line 4\u001b[0m\n\u001b[0;32m      2\u001b[0m conversion_rate \u001b[39m=\u001b[39m\u001b[39mfloat\u001b[39m(\u001b[39minput\u001b[39m(\u001b[39m\"\u001b[39m\u001b[39mEnter a conversion rate\u001b[39m\u001b[39m\"\u001b[39m))\n\u001b[0;32m      3\u001b[0m conversion_amount\u001b[39m=\u001b[39m amount \u001b[39m*\u001b[39m conversion_rate\n\u001b[1;32m----> 4\u001b[0m formatted_string\u001b[39m=\u001b[39m \u001b[39m\"\u001b[39m\u001b[39m{:.2f}\u001b[39;00m\u001b[39min your currency is equivalent to \u001b[39m\u001b[39m{:.2f}\u001b[39;00m\u001b[39m in the target currency\u001b[39m\u001b[39m\"\u001b[39m\u001b[39m.\u001b[39mformat(amount,converted_amount)\n\u001b[0;32m      5\u001b[0m \u001b[39mprint\u001b[39m(formatted_string)\n",
      "\u001b[1;31mNameError\u001b[0m: name 'converted_amount' is not defined"
     ]
    }
   ],
   "source": [
    "amount=float(input(\"Enter an amount in currency\"))\n",
    "conversion_rate =float(input(\"Enter a conversion rate\"))\n",
    "conversion_amount= amount * conversion_rate\n",
    "formatted_string= \"{:.2f}in your currency is equivalent to {:.2f} in the target currency\".format(amount,conversion_amount)\n",
    "print(formatted_string)"
   ]
  },
  {
   "cell_type": "code",
   "execution_count": 53,
   "metadata": {},
   "outputs": [
    {
     "name": "stdout",
     "output_type": "stream",
     "text": [
      "5000.00 in your currency is equivalent to 117000.00 in the target currency.\n"
     ]
    }
   ],
   "source": [
    "amount = float(input(\"Enter the amount in your currency: \"))\n",
    "conversion_rate = float(input(\"Enter the conversion rate: \"))\n",
    "converted_amount = amount * conversion_rate\n",
    "formatted_result = \"{:.2f} in your currency is equivalent to {:.2f} in the target currency.\".format(amount, converted_amount)\n",
    "print(formatted_result)\n"
   ]
  }
 ],
 "metadata": {
  "kernelspec": {
   "display_name": "base",
   "language": "python",
   "name": "python3"
  },
  "language_info": {
   "codemirror_mode": {
    "name": "ipython",
    "version": 3
   },
   "file_extension": ".py",
   "mimetype": "text/x-python",
   "name": "python",
   "nbconvert_exporter": "python",
   "pygments_lexer": "ipython3",
   "version": "3.11.3"
  },
  "orig_nbformat": 4
 },
 "nbformat": 4,
 "nbformat_minor": 2
}
