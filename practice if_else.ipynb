{
 "cells": [
  {
   "cell_type": "code",
   "execution_count": 22,
   "id": "dbc13413",
   "metadata": {},
   "outputs": [
    {
     "name": "stdout",
     "output_type": "stream",
     "text": [
      "The number pi (pi) is greater than the golden ratio (golden_ratio)\n",
      "done!\n"
     ]
    }
   ],
   "source": [
    "pi = 3.14\n",
    "golden_ratio = 1.68\n",
    "\n",
    "if pi > golden_ratio:\n",
    "        \n",
    "    print(\"The number pi (pi) is greater than the golden ratio (golden_ratio)\")\n",
    "\n",
    "    print(\"done!\")"
   ]
  },
  {
   "cell_type": "code",
   "execution_count": 23,
   "id": "86631224",
   "metadata": {},
   "outputs": [
    {
     "name": "stdout",
     "output_type": "stream",
     "text": [
      "true\n"
     ]
    }
   ],
   "source": [
    "if 2:\n",
    "    print(\"true\")"
   ]
  },
  {
   "cell_type": "code",
   "execution_count": 24,
   "id": "eac702c6",
   "metadata": {},
   "outputs": [
    {
     "name": "stdout",
     "output_type": "stream",
     "text": [
      "The number pi (pi) is greater than the golden ratio (golden_ratio)\n"
     ]
    }
   ],
   "source": [
    "pi = 3.14\n",
    "golden_ratio = 1.68\n",
    "\n",
    "if pi > golden_ratio:\n",
    "        \n",
    "    print(\"The number pi (pi) is greater than the golden ratio (golden_ratio)\")\n",
    "    \n",
    "else:\n",
    "    print(\"the number pi(pi) is lower than the golden_ratio(golden_ratio)\")\n",
    "\n",
    "    print(\"done!\")"
   ]
  },
  {
   "cell_type": "markdown",
   "id": "7b9b9a0c",
   "metadata": {},
   "source": [
    "# elif statement "
   ]
  },
  {
   "cell_type": "code",
   "execution_count": 31,
   "id": "0c997966",
   "metadata": {},
   "outputs": [
    {
     "name": "stdout",
     "output_type": "stream",
     "text": [
      "you are a baby\n",
      "Done!\n"
     ]
    }
   ],
   "source": [
    "age = 23\n",
    "\n",
    "if age > 25:\n",
    "    print(\"you can go to primary school\")\n",
    "elif age==25:\n",
    "    print(\"you should go to the kinder garden.\")\n",
    "else:\n",
    "    print(\"you are a baby\")\n",
    "    print(\"Done!\")\n",
    "    "
   ]
  },
  {
   "cell_type": "markdown",
   "id": "c891695c",
   "metadata": {},
   "source": [
    "# example"
   ]
  },
  {
   "cell_type": "code",
   "execution_count": 32,
   "id": "5c2a5114",
   "metadata": {},
   "outputs": [
    {
     "name": "stdout",
     "output_type": "stream",
     "text": [
      "birth_year is greater and equal to 1995\n",
      "Done!\n"
     ]
    }
   ],
   "source": [
    "birth_year = 2000\n",
    "if birth_year >= 1995:\n",
    "    print(\"birth_year is greater and equal to 1995\")\n",
    "    print(\"Done!\")"
   ]
  },
  {
   "cell_type": "code",
   "execution_count": 35,
   "id": "26fd2715",
   "metadata": {},
   "outputs": [
    {
     "name": "stdout",
     "output_type": "stream",
     "text": [
      "birth_year is greater than 1995\n"
     ]
    }
   ],
   "source": [
    "birth_year =2000 \n",
    "if birth_year >= 1995:\n",
    "    print(\"birth_year is greater than 1995\")\n",
    "else:\n",
    "    print(\"birth_year is lower than 1995\")\n",
    "    print(\"Done!\")"
   ]
  },
  {
   "cell_type": "markdown",
   "id": "57645412",
   "metadata": {},
   "source": [
    "# example"
   ]
  },
  {
   "cell_type": "code",
   "execution_count": 42,
   "id": "73991f34",
   "metadata": {},
   "outputs": [
    {
     "name": "stdout",
     "output_type": "stream",
     "text": [
      "Enter a rating number6.6\n",
      "the entered movie_ratings\n",
      "the movie has merit to be watched with {} ratings .format(movie_ratings)\n"
     ]
    }
   ],
   "source": [
    "movie_ratings = float(input('Enter a rating number'))\n",
    "print(\"the entered movie_ratings\")\n",
    "if movie_ratings > 8.5:\n",
    "    print(\"the movie is awesome with {} rating and you should watch it.format(movie_ratings)\")\n",
    "else:\n",
    "    print(\"the movie has merit to be watched with {} ratings .format(movie_ratings)\")\n",
    "\n"
   ]
  },
  {
   "cell_type": "markdown",
   "id": "ccccd3a6",
   "metadata": {},
   "source": [
    "# Example"
   ]
  },
  {
   "cell_type": "code",
   "execution_count": 92,
   "id": "f98181ac",
   "metadata": {},
   "outputs": [
    {
     "name": "stdout",
     "output_type": "stream",
     "text": [
      "enter a note: 90\n",
      "the entired note value is note .format(note)\n",
      "the letter grade is AA\n"
     ]
    }
   ],
   "source": [
    "note = float(input(\"enter a note: \"))\n",
    "print(\"the entired note value is note .format(note)\")\n",
    "if note >= 90 and note <=100 :\n",
    "    print(\"the letter grade is AA\")\n",
    "elif note >= 80 and note <=89 :\n",
    "    print(\"the letter grade is BB\")"
   ]
  },
  {
   "cell_type": "code",
   "execution_count": 95,
   "id": "9ba76347",
   "metadata": {},
   "outputs": [
    {
     "name": "stdout",
     "output_type": "stream",
     "text": [
      "enter a input12\n",
      "the entered number is  12\n",
      "the entered number 12 is even \n"
     ]
    }
   ],
   "source": [
    "number= int(input('enter a input'))\n",
    "print(\"the entered number is \",number)\n",
    "if number%2==0:\n",
    "    even = \"the entered number {} is even \".format(number) \n",
    "    print(even)\n",
    "else:\n",
    "    print(\"the entered number is odd\")\n",
    "    "
   ]
  },
  {
   "cell_type": "markdown",
   "id": "940af9a2",
   "metadata": {},
   "source": [
    "# And"
   ]
  },
  {
   "cell_type": "code",
   "execution_count": 88,
   "id": "a3a5dcad",
   "metadata": {},
   "outputs": [
    {
     "ename": "SyntaxError",
     "evalue": "invalid syntax (2430022402.py, line 2)",
     "output_type": "error",
     "traceback": [
      "\u001b[1;36m  Cell \u001b[1;32mIn[88], line 2\u001b[1;36m\u001b[0m\n\u001b[1;33m    if birth_year >and 1995:\u001b[0m\n\u001b[1;37m                   ^\u001b[0m\n\u001b[1;31mSyntaxError\u001b[0m\u001b[1;31m:\u001b[0m invalid syntax\n"
     ]
    }
   ],
   "source": [
    "birth_year = 2000\n",
    "if birth_year >and 1995:\n",
    "    print(\"birth_year is greater than 1995\")\n",
    "else:\n",
    "    print(\"birth_year is lower than 1995\")"
   ]
  },
  {
   "cell_type": "code",
   "execution_count": null,
   "id": "3278d048",
   "metadata": {},
   "outputs": [],
   "source": []
  }
 ],
 "metadata": {
  "kernelspec": {
   "display_name": "Python 3 (ipykernel)",
   "language": "python",
   "name": "python3"
  },
  "language_info": {
   "codemirror_mode": {
    "name": "ipython",
    "version": 3
   },
   "file_extension": ".py",
   "mimetype": "text/x-python",
   "name": "python",
   "nbconvert_exporter": "python",
   "pygments_lexer": "ipython3",
   "version": "3.11.3"
  }
 },
 "nbformat": 4,
 "nbformat_minor": 5
}
